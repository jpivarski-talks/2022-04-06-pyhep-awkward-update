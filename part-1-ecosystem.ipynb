{
 "cells": [
  {
   "cell_type": "markdown",
   "id": "60548d05-c11e-40b1-87e8-24cd3df7cfe6",
   "metadata": {},
   "source": [
    "# Scikit-HEP ecosystem updates\n",
    "\n",
    "**Note:** although I'm presenting in Jupyter, this is a talk, rather than a tutorial. You don't have to follow along."
   ]
  },
  {
   "cell_type": "markdown",
   "id": "505cd924-75d2-445f-91cd-ed0864e1de2a",
   "metadata": {},
   "source": [
    "## State of the ecosystem"
   ]
  },
  {
   "cell_type": "markdown",
   "id": "8a6d6993-35a8-4202-99c7-afe341d3d9ee",
   "metadata": {},
   "source": [
    "<table width=\"100%\"><tr style=\"background: white\">\n",
    "    <td align=\"left\" width=\"50%\"><img src=\"img/shells-border.png\" width=\"95%\"></td>\n",
    "    <td align=\"right\" width=\"50%\"><img src=\"img/shells-hep.png\" width=\"95%\"></td>\n",
    "</tr></table>"
   ]
  },
  {
   "cell_type": "code",
   "execution_count": null,
   "id": "6651b1dd-d517-4a0f-a7f1-11fc52618f16",
   "metadata": {},
   "outputs": [],
   "source": []
  }
 ],
 "metadata": {
  "kernelspec": {
   "display_name": "Python 3 (ipykernel)",
   "language": "python",
   "name": "python3"
  },
  "language_info": {
   "codemirror_mode": {
    "name": "ipython",
    "version": 3
   },
   "file_extension": ".py",
   "mimetype": "text/x-python",
   "name": "python",
   "nbconvert_exporter": "python",
   "pygments_lexer": "ipython3",
   "version": "3.9.12"
  }
 },
 "nbformat": 4,
 "nbformat_minor": 5
}
