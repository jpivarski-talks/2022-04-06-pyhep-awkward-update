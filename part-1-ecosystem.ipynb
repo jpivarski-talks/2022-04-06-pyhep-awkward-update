{
 "cells": [
  {
   "cell_type": "markdown",
   "id": "cd8ce77f-6e6e-4e6a-ae13-edabf4661559",
   "metadata": {
    "tags": []
   },
   "source": [
    "# Scikit-HEP ecosystem updates"
   ]
  },
  {
   "cell_type": "markdown",
   "id": "a7df2443-3e59-40a6-a121-94ecbe3dc5a3",
   "metadata": {},
   "source": [
    "**Note:** although I'm presenting in Jupyter, this is a talk, rather than a tutorial. You don't have to follow along.\n",
    "\n",
    "<br><br><br><br><br>"
   ]
  },
  {
   "cell_type": "markdown",
   "id": "505cd924-75d2-445f-91cd-ed0864e1de2a",
   "metadata": {},
   "source": [
    "## State of the ecosystem"
   ]
  },
  {
   "cell_type": "markdown",
   "id": "8a6d6993-35a8-4202-99c7-afe341d3d9ee",
   "metadata": {},
   "source": [
    "<table width=\"100%\"><tr style=\"background: white\">\n",
    "    <td align=\"left\" width=\"50%\"><img src=\"img/shells-border.png\" width=\"95%\"></td>\n",
    "    <td align=\"right\" width=\"50%\"><img src=\"img/shells-hep.png\" width=\"95%\"></td>\n",
    "</tr></table>\n",
    "\n",
    "<br><br><br><br><br>"
   ]
  },
  {
   "cell_type": "markdown",
   "id": "544ed9c6-2663-4b5b-82e6-f00a90dea932",
   "metadata": {},
   "source": [
    "<img src=\"img/pip-allos-scikithep-log.png\" width=\"100%\">\n",
    "\n",
    "<br><br><br><br><br>"
   ]
  },
  {
   "cell_type": "markdown",
   "id": "ed2fb1bf-85aa-4b63-b09a-dd8701c26478",
   "metadata": {},
   "source": [
    "<img src=\"img/pip-macwin-scikithep-log.png\" width=\"100%\">\n",
    "\n",
    "<br><br><br><br><br>"
   ]
  },
  {
   "cell_type": "markdown",
   "id": "76892e2c-c9c5-4295-926d-c823f42665c1",
   "metadata": {
    "tags": []
   },
   "source": [
    "## There are more tools than I could reasonably tell you about"
   ]
  },
  {
   "cell_type": "markdown",
   "id": "bdddb119-7bc6-4f43-a22b-070f17bfba6e",
   "metadata": {},
   "source": [
    "And that's good! Ideally,\n",
    "\n",
    "   * each tool does one thing well\n",
    "   * is maintained by enthusiastic developers with recognition for their work\n",
    "   * who also know about each other and can ensure that their tools work together\n",
    "\n",
    "<br><br><br><br><br>"
   ]
  },
  {
   "cell_type": "markdown",
   "id": "1a96124b-7c54-4071-a459-3c3f47edab12",
   "metadata": {},
   "source": [
    "## Illustrative vertical slice: Uproot → Awkward Array → Vector → fastjet → hist"
   ]
  },
  {
   "cell_type": "markdown",
   "id": "14f07489-7b21-46c8-8fd1-e0d7d175a198",
   "metadata": {},
   "source": [
    "Why these five?\n",
    "\n",
    "<br><br>\n",
    "\n",
    "<img src=\"img/uproot-logo.png\" width=\"200px\">\n",
    "\n",
    "<p style=\"font-size: 14pt\">Reads ROOT data as <span style=\"background: yellow\">arrays</span>.</p>\n",
    "\n",
    "<br><br>\n",
    "\n",
    "<img src=\"img/awkward-logo.png\" width=\"200px\">\n",
    "\n",
    "<p style=\"font-size: 14pt\">Manipulates <span style=\"background: yellow\">arrays</span> of arbitrary data structures.</p>\n",
    "\n",
    "<br><br>\n",
    "\n",
    "<img src=\"img/vector-logo.png\" width=\"200px\">\n",
    "\n",
    "<p style=\"font-size: 14pt\">Manipulates <span style=\"background: yellow\">arrays</span> of 2D, 3D, and Lorentz vectors.</p>\n",
    "\n",
    "<br><br>\n",
    "\n",
    "<img src=\"img/fastjet-logo-300px.png\" width=\"200px\">\n",
    "\n",
    "<p style=\"font-size: 14pt\">Finds jets in <span style=\"background: yellow\">arrays</span> of Lorentz vectors.</p>\n",
    "\n",
    "<br><br>\n",
    "\n",
    "<img src=\"img/hist-logo.png\" width=\"200px\">\n",
    "\n",
    "<p style=\"font-size: 14pt\">Fills histograms with <span style=\"background: yellow\">arrays</span>.</p>\n",
    "\n",
    "<br><br><br><br><br>"
   ]
  },
  {
   "cell_type": "markdown",
   "id": "5eedf2ce-dde4-4da2-905e-56e457adb6d8",
   "metadata": {},
   "source": [
    "## Major trend (back) to talking about arrays"
   ]
  },
  {
   "cell_type": "markdown",
   "id": "f5aee425-f5f1-4065-8cc4-7777dae019a0",
   "metadata": {},
   "source": [
    "<img src=\"img/chep-papers-paradigm.png\" width=\"85%\">\n",
    "\n",
    "<br><br><br><br><br>"
   ]
  },
  {
   "cell_type": "markdown",
   "id": "01a5c0a7-5a92-44ef-ac3e-3a922b231cad",
   "metadata": {},
   "source": [
    "## Speedrun through the vertical slice"
   ]
  },
  {
   "cell_type": "markdown",
   "id": "9021d59d-e851-4454-8969-d4269a8ee1a5",
   "metadata": {},
   "source": [
    "Get a TTree with Uproot (from a tutorial 2 years ago)."
   ]
  },
  {
   "cell_type": "code",
   "execution_count": null,
   "id": "e2e8303e-e18d-41de-b652-ba0609be409a",
   "metadata": {},
   "outputs": [],
   "source": [
    "import uproot"
   ]
  },
  {
   "cell_type": "code",
   "execution_count": null,
   "id": "df794175-7b62-454a-acdd-9769d78c1670",
   "metadata": {},
   "outputs": [],
   "source": [
    "tree = uproot.open(\"https://github.com/jpivarski-talks/2020-04-08-eic-jlab/raw/master/open_charm_18x275_10k.root:events/tree\")\n",
    "tree"
   ]
  },
  {
   "cell_type": "markdown",
   "id": "d1bd1ae9-433d-461e-9fdb-426090b232cf",
   "metadata": {},
   "source": [
    "Read some TBranches from it."
   ]
  },
  {
   "cell_type": "code",
   "execution_count": null,
   "id": "24f814c1-2a0f-4851-a162-e8a9276bd813",
   "metadata": {},
   "outputs": [],
   "source": [
    "components = tree.arrays([\"px\", \"py\", \"pz\", \"tot_e\"])\n",
    "components"
   ]
  },
  {
   "cell_type": "markdown",
   "id": "2e5224b6-9ad8-4da4-be0e-253a2899e251",
   "metadata": {},
   "source": [
    "Reformat them into an array of lists of four-vectors."
   ]
  },
  {
   "cell_type": "code",
   "execution_count": null,
   "id": "7a25eadc-c8ac-4ced-8e27-617f5942d43f",
   "metadata": {},
   "outputs": [],
   "source": [
    "import awkward as ak\n",
    "import vector\n",
    "vector.register_awkward()"
   ]
  },
  {
   "cell_type": "code",
   "execution_count": null,
   "id": "c4f9296e-8875-45ad-b494-9b539651452b",
   "metadata": {},
   "outputs": [],
   "source": [
    "events = ak.zip(\n",
    "    {\"px\": components.px, \"py\": components.py, \"pz\": components.pz, \"E\": components.tot_e},\n",
    "    with_name=\"Momentum4D\",\n",
    ")\n",
    "events"
   ]
  },
  {
   "cell_type": "markdown",
   "id": "aeef59fe-1e2d-4929-b455-b2416fe82499",
   "metadata": {},
   "source": [
    "See that each list has a different length."
   ]
  },
  {
   "cell_type": "code",
   "execution_count": null,
   "id": "07513712-9444-42e9-873a-b04645d25fb4",
   "metadata": {},
   "outputs": [],
   "source": [
    "ak.num(events)"
   ]
  },
  {
   "cell_type": "markdown",
   "id": "e8547bd2-8e3f-4bb4-8219-7e661aeee34b",
   "metadata": {},
   "source": [
    "Run FastJet's anti-$k_T$ clustering algorithm on all events."
   ]
  },
  {
   "cell_type": "code",
   "execution_count": null,
   "id": "1f8fc85d-982e-4469-bbb2-4d53517d408e",
   "metadata": {},
   "outputs": [],
   "source": [
    "import fastjet"
   ]
  },
  {
   "cell_type": "code",
   "execution_count": null,
   "id": "33322cd9-ec0a-404e-9158-43886a48bcd9",
   "metadata": {},
   "outputs": [],
   "source": [
    "cluster_sequence = fastjet.ClusterSequence(\n",
    "    events,\n",
    "    fastjet.JetDefinition(fastjet.antikt_algorithm, 0.5),\n",
    ")\n",
    "cluster_sequence"
   ]
  },
  {
   "cell_type": "code",
   "execution_count": null,
   "id": "db81d374-402e-4414-9300-74c7b08cf5de",
   "metadata": {},
   "outputs": [],
   "source": [
    "clustered_events = cluster_sequence.inclusive_jets()\n",
    "clustered_events"
   ]
  },
  {
   "cell_type": "markdown",
   "id": "ea884fe3-c783-4366-bc20-98a9d492f78c",
   "metadata": {},
   "source": [
    "Histogram the number of particles in events and the number of jets in events."
   ]
  },
  {
   "cell_type": "code",
   "execution_count": null,
   "id": "4d0530be-b6cf-4886-9512-44a30f3fb975",
   "metadata": {},
   "outputs": [],
   "source": [
    "import hist"
   ]
  },
  {
   "cell_type": "code",
   "execution_count": null,
   "id": "2ea85e0d-bf37-4b59-8506-62b4d6a38abc",
   "metadata": {},
   "outputs": [],
   "source": [
    "hist.new.Reg(101, -0.5, 100.5).Double().fill(ak.num(events))"
   ]
  },
  {
   "cell_type": "code",
   "execution_count": null,
   "id": "b31886cc-08a5-4e4f-89b4-c2ba30e8ae97",
   "metadata": {},
   "outputs": [],
   "source": [
    "hist.new.Reg(101, -0.5, 100.5).Double().fill(ak.num(clustered_events))"
   ]
  },
  {
   "cell_type": "markdown",
   "id": "3128fd28-51fd-4610-9e9b-2e28381abd27",
   "metadata": {},
   "source": [
    "See what happens when you change $\\Delta R$!\n",
    "\n",
    "<br><br><br><br><br>"
   ]
  },
  {
   "cell_type": "markdown",
   "id": "8dd21a22-a88c-4dfa-bdcf-acb247755b2c",
   "metadata": {},
   "source": [
    "## Principle 1: communication via arrays"
   ]
  },
  {
   "cell_type": "markdown",
   "id": "fe6b84e8-8e83-4395-ad01-209b17530c4c",
   "metadata": {},
   "source": [
    "Scientific Python beyond HEP communicates via arrays; mostly, but not exclusively NumPy.\n",
    "\n",
    "[NumPy](https://numpy.org/), [Pandas](https://pandas.pydata.org/), [CuPy](https://cupy.dev/), [Sparse](https://sparse.pydata.org/), [xarray](https://docs.xarray.dev/), [Pint](https://pint.readthedocs.io/), [uncertainties](https://pythonhosted.org/uncertainties/numpy_guide.html), [Dask](https://dask.org/), [JAX](https://jax.readthedocs.io/), [TensorFlow](https://www.tensorflow.org/), [PyTorch](https://pytorch.org/), ... can often be interchanged (duck type)."
   ]
  },
  {
   "cell_type": "code",
   "execution_count": null,
   "id": "caf3884b-977a-4603-9292-9d59cdf2f9f1",
   "metadata": {},
   "outputs": [],
   "source": [
    "import graphviz"
   ]
  },
  {
   "cell_type": "code",
   "execution_count": null,
   "id": "6676ac8c-e1a8-4064-9876-edadc311b521",
   "metadata": {},
   "outputs": [],
   "source": [
    "# Credit: Stephan Hoyer https://gist.github.com/shoyer/7936a93843354299368145e8266c5d83\n",
    "# libraries that only interact with NumPy are not listed, e.g., TensorFlow, PyTorch, scipy.sparse\n",
    "g = graphviz.Digraph()\n",
    "g.edge(\"Dask\", \"NumPy\")\n",
    "g.edge(\"Dask\", \"CuPy\")\n",
    "g.edge(\"Dask\", \"Sparse\")\n",
    "g.edge(\"Dask\", \"NumPy MaskedArray\")\n",
    "g.edge(\"Dask\", \"Pandas\")\n",
    "g.edge(\"CuPy\", \"NumPy\")\n",
    "g.edge(\"Sparse\", \"NumPy\")\n",
    "g.edge(\"NumPy MaskedArray\", \"NumPy\")\n",
    "g.edge(\"Pandas\", \"NumPy\")\n",
    "g.edge(\"Pandas\", \"NumPy MaskedArray\")\n",
    "g.edge(\"JAX\", \"NumPy\")\n",
    "g.edge(\"Pint\", \"Dask\")\n",
    "g.edge(\"Pint\", \"Pandas\")\n",
    "g.edge(\"Pint\", \"NumPy\")\n",
    "g.edge(\"xarray\", \"Dask\")\n",
    "g.edge(\"xarray\", \"CuPy\")\n",
    "g.edge(\"xarray\", \"Sparse\")\n",
    "g.edge(\"xarray\", \"NumPy\")\n",
    "g.edge(\"xarray\", \"Pandas\")\n",
    "g.edge(\"xarray\", \"NumPy MaskedArray\")\n",
    "g.edge(\"xarray\", \"Pint\")\n",
    "g.edge(\"xarray\", \"JAX\")\n",
    "g"
   ]
  },
  {
   "cell_type": "markdown",
   "id": "1dcb259c-cdc7-43a2-840c-2d38aef2586d",
   "metadata": {},
   "source": [
    "<br><br><br><br><br>"
   ]
  },
  {
   "cell_type": "markdown",
   "id": "9a61ef44-e126-4e7f-9f77-2e559634c8be",
   "metadata": {},
   "source": [
    "Awkward Array is our contribution to that list."
   ]
  },
  {
   "cell_type": "code",
   "execution_count": null,
   "id": "ac7dbb64-646d-48a8-9af3-a2b73e45b854",
   "metadata": {},
   "outputs": [],
   "source": [
    "import numpy as np"
   ]
  },
  {
   "cell_type": "code",
   "execution_count": null,
   "id": "30a62dc9-a279-45de-a130-d44e5fb5922b",
   "metadata": {},
   "outputs": [],
   "source": [
    "import skhep_testdata"
   ]
  },
  {
   "cell_type": "code",
   "execution_count": null,
   "id": "f4d66edc-2a09-45b3-89e4-d0ddb1c42f14",
   "metadata": {},
   "outputs": [],
   "source": [
    "array = uproot.open(skhep_testdata.data_path(\"uproot-HZZ.root\"))[\"events\"].arrays()\n",
    "array"
   ]
  },
  {
   "cell_type": "code",
   "execution_count": null,
   "id": "7eb3f8d3-1b9d-4922-912f-5fec591407a7",
   "metadata": {},
   "outputs": [],
   "source": [
    "array[0]"
   ]
  },
  {
   "cell_type": "code",
   "execution_count": null,
   "id": "5cffe871-df59-464b-8fbc-7d5c0b607f4d",
   "metadata": {},
   "outputs": [],
   "source": [
    "nparray = ak.to_numpy(array[[\"MET_px\", \"MET_py\"]])\n",
    "nparray"
   ]
  },
  {
   "cell_type": "markdown",
   "id": "7d0b2c06-96bc-44ce-9c2d-dfadb4783b9b",
   "metadata": {},
   "source": [
    "<br><br><br><br><br>"
   ]
  },
  {
   "cell_type": "markdown",
   "id": "11378505-8cc1-43c1-a2d5-995507bdf8e1",
   "metadata": {},
   "source": [
    "But so are Vector's array backends."
   ]
  },
  {
   "cell_type": "code",
   "execution_count": null,
   "id": "9c4d9587-d871-4a4e-8ed7-0cd094324c9f",
   "metadata": {},
   "outputs": [],
   "source": [
    "vector.MomentumNumpy2D.mro()"
   ]
  },
  {
   "cell_type": "code",
   "execution_count": null,
   "id": "a1adb167-6515-485e-a3d5-2ae617ef8d22",
   "metadata": {},
   "outputs": [],
   "source": [
    "nparray.dtype.names"
   ]
  },
  {
   "cell_type": "code",
   "execution_count": null,
   "id": "192c06e8-82b4-4b40-8cca-2c265af44872",
   "metadata": {},
   "outputs": [],
   "source": [
    "nparray.dtype.names = [\"px\", \"py\"]"
   ]
  },
  {
   "cell_type": "code",
   "execution_count": null,
   "id": "b4e4a06c-b7f0-4e1d-8cf0-55593b809f75",
   "metadata": {},
   "outputs": [],
   "source": [
    "npvectors = nparray.view(vector.MomentumNumpy2D)\n",
    "npvectors"
   ]
  },
  {
   "cell_type": "code",
   "execution_count": null,
   "id": "cd74a408-afad-4465-9d44-6bad0e72ae48",
   "metadata": {},
   "outputs": [],
   "source": [
    "npvectors.pt"
   ]
  },
  {
   "cell_type": "code",
   "execution_count": null,
   "id": "4cdb0930-4022-4b08-b7e4-c43ee446827d",
   "metadata": {},
   "outputs": [],
   "source": [
    "npvectors.to_rhophi()"
   ]
  },
  {
   "cell_type": "code",
   "execution_count": null,
   "id": "f117c27a-cb78-4cdd-8309-03f6f053b2da",
   "metadata": {},
   "outputs": [],
   "source": [
    "abs(npvectors)"
   ]
  },
  {
   "cell_type": "code",
   "execution_count": null,
   "id": "ef1c46aa-8966-41f3-a364-190055fbde10",
   "metadata": {},
   "outputs": [],
   "source": [
    "npvectors + vector.obj(pt=100, phi=np.pi)"
   ]
  },
  {
   "cell_type": "markdown",
   "id": "b69ab023-4e97-499a-94c5-64cfc02493e1",
   "metadata": {},
   "source": [
    "<br><br><br><br><br>"
   ]
  },
  {
   "cell_type": "markdown",
   "id": "c1748b89-b635-46f8-b036-982edacb7f81",
   "metadata": {},
   "source": [
    "Vector (currently!) has three backends:\n",
    "\n",
    "   * Python object of one vector (for completeness)\n",
    "   * NumPy subclass of many vectors\n",
    "   * Awkward Array of vectors in lists and other structures\n",
    "\n",
    "To make an Awkward Array of Lorentz vectors, name the record `\"Momentum4D\"` (using `with_name`), name the fields vector components (using `ak.zip`), and\n",
    "\n",
    "```python\n",
    "vector.register_awkward()\n",
    "```\n",
    "\n",
    "once globally."
   ]
  },
  {
   "cell_type": "markdown",
   "id": "ce24f30a-d8f4-4196-9ff7-4d32f76a0d5b",
   "metadata": {},
   "source": [
    "Here's a slick one-liner:"
   ]
  },
  {
   "cell_type": "code",
   "execution_count": null,
   "id": "b1efc69f-1e22-4ef9-93c4-fcad0a2f4f44",
   "metadata": {},
   "outputs": [],
   "source": [
    "akvectors = ak.zip(dict(zip([\"px\", \"py\", \"pz\", \"E\"], ak.unzip(array[[\"Muon_Px\", \"Muon_Py\", \"Muon_Pz\", \"Muon_E\"]]))), with_name=\"Momentum4D\")\n",
    "akvectors"
   ]
  },
  {
   "cell_type": "code",
   "execution_count": null,
   "id": "523366b0-256b-4389-8a19-d555f5996b20",
   "metadata": {},
   "outputs": [],
   "source": [
    "akvectors.pt"
   ]
  },
  {
   "cell_type": "code",
   "execution_count": null,
   "id": "c0d24a6e-4b1f-4600-8504-d5afccfd7e78",
   "metadata": {},
   "outputs": [],
   "source": [
    "akvectors.to_rhophietat()"
   ]
  },
  {
   "cell_type": "code",
   "execution_count": null,
   "id": "0cc35eae-c6b4-4992-be9a-9b4f970b1295",
   "metadata": {},
   "outputs": [],
   "source": [
    "abs(akvectors)"
   ]
  },
  {
   "cell_type": "code",
   "execution_count": null,
   "id": "cd990134-f99a-4ce3-9f87-84101bd00ffc",
   "metadata": {},
   "outputs": [],
   "source": [
    "akvectors + vector.obj(pt=100, phi=np.pi, eta=0.5, E=100)"
   ]
  },
  {
   "cell_type": "markdown",
   "id": "9f5ab6a4-11ea-461d-b441-8fce08fd9edd",
   "metadata": {},
   "source": [
    "<br><br><br><br><br>"
   ]
  },
  {
   "cell_type": "markdown",
   "id": "646296b4-9f77-41eb-bf91-d573abde959c",
   "metadata": {},
   "source": [
    "Quick example: $\\Delta R$ between all pairs of muons."
   ]
  },
  {
   "cell_type": "code",
   "execution_count": null,
   "id": "954c5bc2-7455-41f7-b43b-da2fd6fdf242",
   "metadata": {},
   "outputs": [],
   "source": [
    "mu1, mu2 = ak.unzip(ak.combinations(akvectors, 2))\n",
    "mu1, mu2"
   ]
  },
  {
   "cell_type": "code",
   "execution_count": null,
   "id": "99a3c35a-172d-4029-a509-6f89b279e1a1",
   "metadata": {},
   "outputs": [],
   "source": [
    "mu1.deltaR(mu2)"
   ]
  },
  {
   "cell_type": "markdown",
   "id": "4c7b1071-b0c6-4064-88f7-56ba2dd87418",
   "metadata": {},
   "source": [
    "<br><br><br><br><br>"
   ]
  },
  {
   "cell_type": "markdown",
   "id": "b1631aa7-6413-4f4a-985d-27ccfa15f420",
   "metadata": {},
   "source": [
    "fastjet communicates via arrays, too. These are Awkward Arrays of Vectors."
   ]
  },
  {
   "cell_type": "code",
   "execution_count": null,
   "id": "566e25b3-2bad-495c-aa88-bfb54324f085",
   "metadata": {},
   "outputs": [],
   "source": [
    "events"
   ]
  },
  {
   "cell_type": "code",
   "execution_count": null,
   "id": "e49398ca-75a9-4dcf-9ff1-23cf4100d0cb",
   "metadata": {},
   "outputs": [],
   "source": [
    "cluster_sequence = fastjet.ClusterSequence(\n",
    "    events,\n",
    "    fastjet.JetDefinition(fastjet.antikt_algorithm, 0.5),\n",
    ")\n",
    "cluster_sequence"
   ]
  },
  {
   "cell_type": "code",
   "execution_count": null,
   "id": "99910e11-08b7-4ab5-8b86-15d513ef8d93",
   "metadata": {},
   "outputs": [],
   "source": [
    "cluster_sequence.inclusive_jets()"
   ]
  },
  {
   "cell_type": "markdown",
   "id": "89d552ed-f639-4c9b-9dd2-3445aedd1eec",
   "metadata": {},
   "source": [
    "<br><br><br><br><br>"
   ]
  },
  {
   "cell_type": "markdown",
   "id": "85e09c57-87d3-4b98-891d-6a71def235a5",
   "metadata": {},
   "source": [
    "The same library provides the classic FastJet Python interface, in which each vector is a `fastjet.PseudoJet`."
   ]
  },
  {
   "cell_type": "code",
   "execution_count": null,
   "id": "77c979fe-14ce-48f0-9a04-107c5fe9580d",
   "metadata": {},
   "outputs": [],
   "source": [
    "inclusive_jets = []\n",
    "for event in events:\n",
    "    pseudojets = []\n",
    "    for particle in event:\n",
    "        pseudojets.append(fastjet.PseudoJet(particle.px, particle.py, particle.pz, particle.E))\n",
    "\n",
    "    cluster_sequence = fastjet.ClusterSequence(\n",
    "        pseudojets,\n",
    "        fastjet.JetDefinition(fastjet.antikt_algorithm, 0.5),\n",
    "    )\n",
    "    inclusive_jets.append(cluster_sequence.inclusive_jets())"
   ]
  },
  {
   "cell_type": "code",
   "execution_count": null,
   "id": "a94ede3c-0917-48cd-9430-1cc19f3027a7",
   "metadata": {},
   "outputs": [],
   "source": [
    "inclusive_jets[0]"
   ]
  },
  {
   "cell_type": "code",
   "execution_count": null,
   "id": "e50444f9-3a2d-479f-a13b-378e568465c6",
   "metadata": {},
   "outputs": [],
   "source": [
    "print(\"\\n\".join(f\"<PseudoJet px={obj.px():.4g}, py={obj.py():.4g}, pz={obj.pz():.4g}, E={obj.E():.4g}>\" for obj in inclusive_jets[0]))"
   ]
  },
  {
   "cell_type": "markdown",
   "id": "14f9090b-0ad0-4399-872a-ab1e62e32765",
   "metadata": {},
   "source": [
    "<br><br><br><br><br>"
   ]
  },
  {
   "cell_type": "markdown",
   "id": "2f138e59-072d-4281-899a-197ac40b709a",
   "metadata": {},
   "source": [
    "## Principle 2: loose coupling"
   ]
  },
  {
   "cell_type": "markdown",
   "id": "7fd8d3c9-82f0-4bc6-b0b4-0fc155359087",
   "metadata": {},
   "source": [
    "These interfaces demand the minimum of what they need.\n",
    "\n",
    "If another library provides too much information, it's not a problem."
   ]
  },
  {
   "cell_type": "code",
   "execution_count": null,
   "id": "d82f0ae7-2cb8-4be8-b123-fa3367a02874",
   "metadata": {},
   "outputs": [],
   "source": [
    "charge = tree[\"charge\"].array()\n",
    "charge"
   ]
  },
  {
   "cell_type": "code",
   "execution_count": null,
   "id": "885ac618-66f1-4925-8432-11bb42c4fb2c",
   "metadata": {},
   "outputs": [],
   "source": [
    "events = ak.zip(\n",
    "    {\n",
    "        \"px\": components.px, \"py\": components.py, \"pz\": components.pz, \"E\": components.tot_e,\n",
    "        \"charge\": charge,\n",
    "    },\n",
    "    with_name=\"Momentum4D\",\n",
    ")\n",
    "events"
   ]
  },
  {
   "cell_type": "code",
   "execution_count": null,
   "id": "faa1b376-7ef6-4e27-a238-8ef15ff18426",
   "metadata": {},
   "outputs": [],
   "source": [
    "print(events.type)"
   ]
  },
  {
   "cell_type": "markdown",
   "id": "78d4710d-f72c-4875-b680-8c3c7c2e9e6e",
   "metadata": {},
   "source": [
    "<br><br><br><br><br>"
   ]
  },
  {
   "cell_type": "markdown",
   "id": "b199ae35-22f7-44c6-84e4-8ee7a2353f16",
   "metadata": {},
   "source": [
    "Vectors don't need a `charge` field, and it's ignored in vector operations."
   ]
  },
  {
   "cell_type": "code",
   "execution_count": null,
   "id": "2b5cda9e-fa23-48a7-95ca-9eea6e69d52b",
   "metadata": {},
   "outputs": [],
   "source": [
    "abs(events)"
   ]
  },
  {
   "cell_type": "code",
   "execution_count": null,
   "id": "9ab19349-79d5-428e-a57e-b826e8df398e",
   "metadata": {},
   "outputs": [],
   "source": [
    "p1, p2 = ak.unzip(ak.combinations(events, 2))\n",
    "p1, p2"
   ]
  },
  {
   "cell_type": "code",
   "execution_count": null,
   "id": "0c8b29ee-a9cb-4bae-9f55-5ae11dc85798",
   "metadata": {},
   "outputs": [],
   "source": [
    "p1 + p2"
   ]
  },
  {
   "cell_type": "code",
   "execution_count": null,
   "id": "15050741-7d37-4043-aae5-5ef57e4795ee",
   "metadata": {},
   "outputs": [],
   "source": [
    "print((p1 + p2).type)"
   ]
  },
  {
   "cell_type": "markdown",
   "id": "ffdc205d-e513-4d9d-929d-59b2337805cc",
   "metadata": {},
   "source": [
    "<br><br><br><br><br>"
   ]
  },
  {
   "cell_type": "markdown",
   "id": "95580d68-b65a-43e4-809a-6665ea22a809",
   "metadata": {},
   "source": [
    "Jet-finding doesn't need a `charge` field, either."
   ]
  },
  {
   "cell_type": "code",
   "execution_count": null,
   "id": "dc96366e-afcd-484f-9ee8-33b8718fa117",
   "metadata": {},
   "outputs": [],
   "source": [
    "cluster_sequence = fastjet.ClusterSequence(\n",
    "    events,\n",
    "    fastjet.JetDefinition(fastjet.antikt_algorithm, 0.5),\n",
    ")\n",
    "cluster_sequence"
   ]
  },
  {
   "cell_type": "code",
   "execution_count": null,
   "id": "9f798fe8-7ab8-4e22-807d-0f6a731b305b",
   "metadata": {},
   "outputs": [],
   "source": [
    "cluster_sequence.inclusive_jets()"
   ]
  },
  {
   "cell_type": "code",
   "execution_count": null,
   "id": "8495a297-ffcc-4f33-9d5c-3831bd4fa866",
   "metadata": {},
   "outputs": [],
   "source": [
    "print(cluster_sequence.inclusive_jets().type)"
   ]
  },
  {
   "cell_type": "markdown",
   "id": "9875a55b-8f3f-4c6e-bdc9-bf2dc2529ec9",
   "metadata": {},
   "source": [
    "<br><br><br><br><br>"
   ]
  },
  {
   "cell_type": "markdown",
   "id": "7352b311-df10-4dc1-8ca9-35a4313de5f9",
   "metadata": {},
   "source": [
    "But it's passed through wherever possible."
   ]
  },
  {
   "cell_type": "code",
   "execution_count": null,
   "id": "b03c36e0-c53c-44f8-b110-7c5a6e707f1b",
   "metadata": {},
   "outputs": [],
   "source": [
    "cluster_sequence.constituents()"
   ]
  },
  {
   "cell_type": "code",
   "execution_count": null,
   "id": "560e00d6-8ca7-4852-b6b9-adbfb245a9df",
   "metadata": {},
   "outputs": [],
   "source": [
    "print(cluster_sequence.constituents().type)"
   ]
  },
  {
   "cell_type": "code",
   "execution_count": null,
   "id": "2af8fe85-18c7-4a09-9c03-661626a805b5",
   "metadata": {},
   "outputs": [],
   "source": [
    "cluster_sequence.constituents().charge"
   ]
  },
  {
   "cell_type": "code",
   "execution_count": null,
   "id": "88eec962-fb8c-4d74-ace0-9f2c1f4504e9",
   "metadata": {},
   "outputs": [],
   "source": [
    "jet_charge = ak.sum(cluster_sequence.constituents().charge, axis=-1)\n",
    "jet_charge"
   ]
  },
  {
   "cell_type": "code",
   "execution_count": null,
   "id": "79e22f4c-0fb6-4a1d-b1df-e25b3f46c1d9",
   "metadata": {},
   "outputs": [],
   "source": [
    "jets = cluster_sequence.inclusive_jets()\n",
    "jets[\"charge\"] = jet_charge\n",
    "jets"
   ]
  },
  {
   "cell_type": "code",
   "execution_count": null,
   "id": "d0d13bf3-def9-423b-9dad-09bfd84e43b8",
   "metadata": {},
   "outputs": [],
   "source": [
    "print(jets.type)"
   ]
  },
  {
   "cell_type": "markdown",
   "id": "34d644be-2c80-40b9-856a-a8650bacaf52",
   "metadata": {},
   "source": [
    "<br><br><br><br><br>"
   ]
  },
  {
   "cell_type": "markdown",
   "id": "ce303eba-dcf3-4d22-8fb5-c07bf868705c",
   "metadata": {},
   "source": [
    "## Principle 3: array-oriented _or_ Numba-JIT"
   ]
  },
  {
   "cell_type": "markdown",
   "id": "edfaeaec-0edf-4dbd-960a-7d35da40d0c0",
   "metadata": {},
   "source": [
    "The major benefit of array-oriented/columnar code is its **interactivity**. The speed is nice, too, but that's a crutch for Python. (See Julia.)\n",
    "\n",
    "You see results one _operation_ at a time, not one _event_ at a time.\n",
    "\n",
    "But some algorithms are easier to express in for-loop code than array-oriented code. Don't struggle! Use Numba to (temporarily) switch to fast for loops."
   ]
  },
  {
   "cell_type": "code",
   "execution_count": null,
   "id": "d18c7965-8afd-4afb-855e-6d69d15921e6",
   "metadata": {},
   "outputs": [],
   "source": [
    "import numba as nb"
   ]
  },
  {
   "cell_type": "code",
   "execution_count": null,
   "id": "72b4049d-5f96-40c1-a129-b6d59827bd94",
   "metadata": {},
   "outputs": [],
   "source": [
    "@nb.jit\n",
    "def sum_of_vectors(events):\n",
    "    output = np.empty((len(events), 4))\n",
    "    \n",
    "    for index, particles in enumerate(events):\n",
    "        sum_vector = vector.obj(px=0.0, py=0.0, pz=0.0, E=0.0)\n",
    "        \n",
    "        for particle in particles:\n",
    "            sum_vector = sum_vector + particle\n",
    "        \n",
    "        output[index, 0] = sum_vector.pt\n",
    "        output[index, 1] = sum_vector.phi\n",
    "        output[index, 2] = sum_vector.z\n",
    "        output[index, 3] = sum_vector.mass\n",
    "    \n",
    "    return output"
   ]
  },
  {
   "cell_type": "code",
   "execution_count": null,
   "id": "71e475fe-2c61-4b63-a90f-124dd5de5ef4",
   "metadata": {},
   "outputs": [],
   "source": [
    "output = sum_of_vectors(events)\n",
    "output"
   ]
  },
  {
   "cell_type": "code",
   "execution_count": null,
   "id": "54c4363a-0fcf-4b31-8ef8-8bc86de54307",
   "metadata": {},
   "outputs": [],
   "source": [
    "np_sums = output.view([(\"pt\", \"f8\"), (\"phi\", \"f8\"), (\"z\", \"f8\"), (\"mass\", \"f8\")]).view(vector.MomentumNumpy4D)\n",
    "np_sums"
   ]
  },
  {
   "cell_type": "markdown",
   "id": "09175c5e-14f1-40f7-93d0-7d74ac9d20a4",
   "metadata": {},
   "source": [
    "<br><br><br><br><br>"
   ]
  },
  {
   "cell_type": "markdown",
   "id": "c069baff-f141-4a53-8cfe-79386b584e00",
   "metadata": {},
   "source": [
    "The JIT-compilation really matters!"
   ]
  },
  {
   "cell_type": "code",
   "execution_count": null,
   "id": "81a176a4-0717-4edf-875f-509be52cb5d4",
   "metadata": {},
   "outputs": [],
   "source": [
    "sum_of_vectors.py_func"
   ]
  },
  {
   "cell_type": "code",
   "execution_count": null,
   "id": "f31aa33c-bb4b-40d6-9f71-941143329c0d",
   "metadata": {},
   "outputs": [],
   "source": [
    "%%timeit -n 1 -r 1\n",
    "\n",
    "sum_of_vectors.py_func(events[:100])"
   ]
  },
  {
   "cell_type": "code",
   "execution_count": null,
   "id": "c11ef886-956e-4428-93f9-2e855e8e07f6",
   "metadata": {},
   "outputs": [],
   "source": [
    "%%timeit -n 1 -r 1\n",
    "\n",
    "sum_of_vectors(events[:100])"
   ]
  },
  {
   "cell_type": "code",
   "execution_count": null,
   "id": "fd82abf0-7bf1-447d-a5bc-226c3644b58d",
   "metadata": {},
   "outputs": [],
   "source": [
    "len(events)"
   ]
  },
  {
   "cell_type": "markdown",
   "id": "74c93425-efdf-4741-962c-589d2fac3848",
   "metadata": {},
   "source": [
    "<br><br><br><br><br>"
   ]
  },
  {
   "cell_type": "markdown",
   "id": "5501ef0a-9fec-48ab-bcf6-fdf6d586d5a6",
   "metadata": {},
   "source": [
    "Not all libraries are Numba-enabled, but it's a growing list.\n",
    "\n",
    "   * Awkward Array: iteration and ArrayBuilder\n",
    "   * Vector: single-object vectors and Awkward Arrays of vectors (NumPy arrays of vectors are [scikit-hep/vector#43](https://github.com/scikit-hep/vector/issues/43))\n",
    "   * hist: experimental prototypes ([scikit-hep/hist#293](https://github.com/scikit-hep/hist/pull/293))"
   ]
  }
 ],
 "metadata": {
  "kernelspec": {
   "display_name": "Python 3 (ipykernel)",
   "language": "python",
   "name": "python3"
  },
  "language_info": {
   "codemirror_mode": {
    "name": "ipython",
    "version": 3
   },
   "file_extension": ".py",
   "mimetype": "text/x-python",
   "name": "python",
   "nbconvert_exporter": "python",
   "pygments_lexer": "ipython3",
   "version": "3.9.12"
  }
 },
 "nbformat": 4,
 "nbformat_minor": 5
}
