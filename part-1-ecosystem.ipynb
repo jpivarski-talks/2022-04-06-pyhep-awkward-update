{
 "cells": [
  {
   "cell_type": "markdown",
   "id": "cd8ce77f-6e6e-4e6a-ae13-edabf4661559",
   "metadata": {},
   "source": [
    "# Scikit-HEP ecosystem updates"
   ]
  },
  {
   "cell_type": "markdown",
   "id": "a7df2443-3e59-40a6-a121-94ecbe3dc5a3",
   "metadata": {},
   "source": [
    "**Note:** although I'm presenting in Jupyter, this is a talk, rather than a tutorial. You don't have to follow along.\n",
    "\n",
    "<br><br><br><br><br>"
   ]
  },
  {
   "cell_type": "markdown",
   "id": "505cd924-75d2-445f-91cd-ed0864e1de2a",
   "metadata": {},
   "source": [
    "## State of the ecosystem"
   ]
  },
  {
   "cell_type": "markdown",
   "id": "8a6d6993-35a8-4202-99c7-afe341d3d9ee",
   "metadata": {},
   "source": [
    "<table width=\"100%\"><tr style=\"background: white\">\n",
    "    <td align=\"left\" width=\"50%\"><img src=\"img/shells-border.png\" width=\"95%\"></td>\n",
    "    <td align=\"right\" width=\"50%\"><img src=\"img/shells-hep.png\" width=\"95%\"></td>\n",
    "</tr></table>\n",
    "\n",
    "<br><br><br><br><br>"
   ]
  },
  {
   "cell_type": "markdown",
   "id": "544ed9c6-2663-4b5b-82e6-f00a90dea932",
   "metadata": {},
   "source": [
    "<img src=\"img/pip-allos-scikithep-log.png\" width=\"100%\">\n",
    "\n",
    "<br><br><br><br><br>"
   ]
  },
  {
   "cell_type": "markdown",
   "id": "76892e2c-c9c5-4295-926d-c823f42665c1",
   "metadata": {
    "tags": []
   },
   "source": [
    "## There are more tools than I could reasonably tell you about"
   ]
  },
  {
   "cell_type": "markdown",
   "id": "bdddb119-7bc6-4f43-a22b-070f17bfba6e",
   "metadata": {},
   "source": [
    "And that's good:\n",
    "\n",
    "   * approaching the ideal of each does one thing well\n",
    "   * and is maintained by enthusiastic developers with recognition for their work\n",
    "   * but we also know about each other and ensure that these tools work together\n",
    "\n",
    "<br><br><br><br><br>"
   ]
  },
  {
   "cell_type": "markdown",
   "id": "1a96124b-7c54-4071-a459-3c3f47edab12",
   "metadata": {},
   "source": [
    "## Illustrative vertical slice: Awkward Array + Vector + fastjet (+ Uproot + hist)"
   ]
  },
  {
   "cell_type": "markdown",
   "id": "14f07489-7b21-46c8-8fd1-e0d7d175a198",
   "metadata": {},
   "source": [
    "Why these three (five)? I happen to know more about them.\n",
    "\n",
    "<br><br>\n",
    "\n",
    "<img src=\"img/awkward-logo.png\" width=\"200px\">\n",
    "\n",
    "<p style=\"font-size: 14pt\">Arrays of arbitrary data structures.</p>\n",
    "\n",
    "<br><br>\n",
    "\n",
    "<img src=\"img/vector-logo.png\" width=\"200px\">\n",
    "\n",
    "<p style=\"font-size: 14pt\">Arrays of 2D, 3D, and Lorentz vectors.</p>\n",
    "\n",
    "<br><br>\n",
    "\n",
    "<img src=\"img/fastjet-logo-300px.png\" width=\"200px\">\n",
    "\n",
    "<p style=\"font-size: 14pt\">Jet-finding on arrays of Lorentz vectors.</p>\n",
    "\n",
    "<br><br>\n",
    "\n",
    "<img src=\"img/uproot-logo.png\" width=\"200px\">\n",
    "\n",
    "<p style=\"font-size: 14pt\">Reading data from ROOT as arrays.</p>\n",
    "\n",
    "<br><br>\n",
    "\n",
    "<img src=\"img/hist-logo.png\" width=\"200px\">\n",
    "\n",
    "<p style=\"font-size: 14pt\">Filling, manipulating, and plotting histograms.</p>"
   ]
  },
  {
   "cell_type": "code",
   "execution_count": null,
   "id": "a5a3485a-cbd4-447d-a802-349343c84829",
   "metadata": {},
   "outputs": [],
   "source": []
  }
 ],
 "metadata": {
  "kernelspec": {
   "display_name": "Python 3 (ipykernel)",
   "language": "python",
   "name": "python3"
  },
  "language_info": {
   "codemirror_mode": {
    "name": "ipython",
    "version": 3
   },
   "file_extension": ".py",
   "mimetype": "text/x-python",
   "name": "python",
   "nbconvert_exporter": "python",
   "pygments_lexer": "ipython3",
   "version": "3.9.12"
  }
 },
 "nbformat": 4,
 "nbformat_minor": 5
}
