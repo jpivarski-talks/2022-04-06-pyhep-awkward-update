{
 "cells": [
  {
   "cell_type": "markdown",
   "id": "cd8ce77f-6e6e-4e6a-ae13-edabf4661559",
   "metadata": {},
   "source": [
    "# Scikit-HEP ecosystem updates"
   ]
  },
  {
   "cell_type": "markdown",
   "id": "a7df2443-3e59-40a6-a121-94ecbe3dc5a3",
   "metadata": {},
   "source": [
    "**Note:** although I'm presenting in Jupyter, this is a talk, rather than a tutorial. You don't have to follow along.\n",
    "\n",
    "<br><br><br><br><br>"
   ]
  },
  {
   "cell_type": "markdown",
   "id": "505cd924-75d2-445f-91cd-ed0864e1de2a",
   "metadata": {},
   "source": [
    "## State of the ecosystem"
   ]
  },
  {
   "cell_type": "markdown",
   "id": "8a6d6993-35a8-4202-99c7-afe341d3d9ee",
   "metadata": {},
   "source": [
    "<table width=\"100%\"><tr style=\"background: white\">\n",
    "    <td align=\"left\" width=\"50%\"><img src=\"img/shells-border.png\" width=\"95%\"></td>\n",
    "    <td align=\"right\" width=\"50%\"><img src=\"img/shells-hep.png\" width=\"95%\"></td>\n",
    "</tr></table>\n",
    "\n",
    "<br><br><br><br><br>"
   ]
  },
  {
   "cell_type": "markdown",
   "id": "544ed9c6-2663-4b5b-82e6-f00a90dea932",
   "metadata": {},
   "source": [
    "<img src=\"img/pip-allos-scikithep-log.png\" width=\"100%\">\n",
    "\n",
    "<br><br><br><br><br>"
   ]
  },
  {
   "cell_type": "markdown",
   "id": "ed2fb1bf-85aa-4b63-b09a-dd8701c26478",
   "metadata": {},
   "source": [
    "<img src=\"img/pip-macwin-scikithep-log.png\" width=\"100%\">\n",
    "\n",
    "<br><br><br><br><br>"
   ]
  },
  {
   "cell_type": "markdown",
   "id": "76892e2c-c9c5-4295-926d-c823f42665c1",
   "metadata": {
    "tags": []
   },
   "source": [
    "## There are more tools than I could reasonably tell you about"
   ]
  },
  {
   "cell_type": "markdown",
   "id": "bdddb119-7bc6-4f43-a22b-070f17bfba6e",
   "metadata": {},
   "source": [
    "And that's good! Ideally,\n",
    "\n",
    "   * each tool does one thing well\n",
    "   * is maintained by enthusiastic developers with recognition for their work\n",
    "   * who also know about each other and can ensure that their tools work together\n",
    "\n",
    "<br><br><br><br><br>"
   ]
  },
  {
   "cell_type": "markdown",
   "id": "1a96124b-7c54-4071-a459-3c3f47edab12",
   "metadata": {},
   "source": [
    "## Illustrative vertical slice: Uproot → Awkward Array → Vector → fastjet → hist"
   ]
  },
  {
   "cell_type": "markdown",
   "id": "14f07489-7b21-46c8-8fd1-e0d7d175a198",
   "metadata": {},
   "source": [
    "Why these five?\n",
    "\n",
    "<br><br>\n",
    "\n",
    "<img src=\"img/uproot-logo.png\" width=\"200px\">\n",
    "\n",
    "<p style=\"font-size: 14pt\">Reads ROOT data as <span style=\"background: yellow\">arrays</span>.</p>\n",
    "\n",
    "<br><br>\n",
    "\n",
    "<img src=\"img/awkward-logo.png\" width=\"200px\">\n",
    "\n",
    "<p style=\"font-size: 14pt\">Manipulates <span style=\"background: yellow\">arrays</span> of arbitrary data structures.</p>\n",
    "\n",
    "<br><br>\n",
    "\n",
    "<img src=\"img/vector-logo.png\" width=\"200px\">\n",
    "\n",
    "<p style=\"font-size: 14pt\">Manipulates <span style=\"background: yellow\">arrays</span> of 2D, 3D, and Lorentz vectors.</p>\n",
    "\n",
    "<br><br>\n",
    "\n",
    "<img src=\"img/fastjet-logo-300px.png\" width=\"200px\">\n",
    "\n",
    "<p style=\"font-size: 14pt\">Finds jets in <span style=\"background: yellow\">arrays</span> of Lorentz vectors.</p>\n",
    "\n",
    "<br><br>\n",
    "\n",
    "<img src=\"img/hist-logo.png\" width=\"200px\">\n",
    "\n",
    "<p style=\"font-size: 14pt\">Fills histograms with <span style=\"background: yellow\">arrays</span>.</p>\n",
    "\n",
    "<br><br><br><br><br>"
   ]
  },
  {
   "cell_type": "markdown",
   "id": "5eedf2ce-dde4-4da2-905e-56e457adb6d8",
   "metadata": {},
   "source": [
    "## Major trend (back) to talking about arrays"
   ]
  },
  {
   "cell_type": "markdown",
   "id": "f5aee425-f5f1-4065-8cc4-7777dae019a0",
   "metadata": {},
   "source": [
    "<img src=\"img/chep-papers-paradigm.png\" width=\"85%\">\n",
    "\n",
    "<br><br><br><br><br>"
   ]
  },
  {
   "cell_type": "markdown",
   "id": "01a5c0a7-5a92-44ef-ac3e-3a922b231cad",
   "metadata": {},
   "source": [
    "## Speedrun through the vertical slice"
   ]
  },
  {
   "cell_type": "markdown",
   "id": "9021d59d-e851-4454-8969-d4269a8ee1a5",
   "metadata": {},
   "source": [
    "Get a TTree with Uproot (from a tutorial 2 years ago)."
   ]
  },
  {
   "cell_type": "code",
   "execution_count": 1,
   "id": "e2e8303e-e18d-41de-b652-ba0609be409a",
   "metadata": {},
   "outputs": [],
   "source": [
    "import uproot"
   ]
  },
  {
   "cell_type": "code",
   "execution_count": 2,
   "id": "df794175-7b62-454a-acdd-9769d78c1670",
   "metadata": {},
   "outputs": [
    {
     "data": {
      "text/plain": [
       "<TTree 'tree' (52 branches) at 0x7f171e713c40>"
      ]
     },
     "execution_count": 2,
     "metadata": {},
     "output_type": "execute_result"
    }
   ],
   "source": [
    "tree = uproot.open(\"https://github.com/jpivarski-talks/2020-04-08-eic-jlab/raw/master/open_charm_18x275_10k.root:events/tree\")\n",
    "tree"
   ]
  },
  {
   "cell_type": "markdown",
   "id": "d1bd1ae9-433d-461e-9fdb-426090b232cf",
   "metadata": {},
   "source": [
    "Read some TBranches from it."
   ]
  },
  {
   "cell_type": "code",
   "execution_count": 3,
   "id": "24f814c1-2a0f-4851-a162-e8a9276bd813",
   "metadata": {},
   "outputs": [
    {
     "data": {
      "text/plain": [
       "<Array [{px: [-0.516, -0.246, ... 3.03]}] type='10000 * {\"px\": var * float64, \"p...'>"
      ]
     },
     "execution_count": 3,
     "metadata": {},
     "output_type": "execute_result"
    }
   ],
   "source": [
    "components = tree.arrays([\"px\", \"py\", \"pz\", \"tot_e\"])\n",
    "components"
   ]
  },
  {
   "cell_type": "markdown",
   "id": "2e5224b6-9ad8-4da4-be0e-253a2899e251",
   "metadata": {},
   "source": [
    "Reformat them into an array of lists of four-vectors."
   ]
  },
  {
   "cell_type": "code",
   "execution_count": 4,
   "id": "7a25eadc-c8ac-4ced-8e27-617f5942d43f",
   "metadata": {},
   "outputs": [],
   "source": [
    "import awkward as ak\n",
    "import vector\n",
    "vector.register_awkward()"
   ]
  },
  {
   "cell_type": "code",
   "execution_count": 5,
   "id": "c4f9296e-8875-45ad-b494-9b539651452b",
   "metadata": {},
   "outputs": [
    {
     "data": {
      "text/plain": [
       "<MomentumArray4D [[{px: -0.516, ... E: 3.03}]] type='10000 * var * Momentum4D[\"p...'>"
      ]
     },
     "execution_count": 5,
     "metadata": {},
     "output_type": "execute_result"
    }
   ],
   "source": [
    "events = ak.zip(\n",
    "    {\"px\": components.px, \"py\": components.py, \"pz\": components.pz, \"E\": components.tot_e},\n",
    "    with_name=\"Momentum4D\",\n",
    ")\n",
    "events"
   ]
  },
  {
   "cell_type": "markdown",
   "id": "aeef59fe-1e2d-4929-b455-b2416fe82499",
   "metadata": {},
   "source": [
    "See that each list has a different length."
   ]
  },
  {
   "cell_type": "code",
   "execution_count": 6,
   "id": "07513712-9444-42e9-873a-b04645d25fb4",
   "metadata": {},
   "outputs": [
    {
     "data": {
      "text/plain": [
       "<Array [51, 26, 27, 28, 30, ... 37, 42, 25, 11] type='10000 * int64'>"
      ]
     },
     "execution_count": 6,
     "metadata": {},
     "output_type": "execute_result"
    }
   ],
   "source": [
    "ak.num(events)"
   ]
  },
  {
   "cell_type": "markdown",
   "id": "e8547bd2-8e3f-4bb4-8219-7e661aeee34b",
   "metadata": {},
   "source": [
    "Run FastJet's anti-$k_T$ clustering algorithm on all events."
   ]
  },
  {
   "cell_type": "code",
   "execution_count": 7,
   "id": "1f8fc85d-982e-4469-bbb2-4d53517d408e",
   "metadata": {},
   "outputs": [],
   "source": [
    "import fastjet"
   ]
  },
  {
   "cell_type": "code",
   "execution_count": 8,
   "id": "33322cd9-ec0a-404e-9158-43886a48bcd9",
   "metadata": {},
   "outputs": [
    {
     "name": "stdout",
     "output_type": "stream",
     "text": [
      "#--------------------------------------------------------------------------\n",
      "#                         FastJet release 3.3.4\n",
      "#                 M. Cacciari, G.P. Salam and G. Soyez                  \n",
      "#     A software package for jet finding and analysis at colliders      \n",
      "#                           http://fastjet.fr                           \n",
      "#\t                                                                      \n",
      "# Please cite EPJC72(2012)1896 [arXiv:1111.6097] if you use this package\n",
      "# for scientific work and optionally PLB641(2006)57 [hep-ph/0512210].   \n",
      "#                                                                       \n",
      "# FastJet is provided without warranty under the GNU GPL v2 or higher.  \n",
      "# It uses T. Chan's closest pair algorithm, S. Fortune's Voronoi code\n",
      "# and 3rd party plugin jet algorithms. See COPYING file for details.\n",
      "#--------------------------------------------------------------------------\n"
     ]
    },
    {
     "data": {
      "text/plain": [
       "<fastjet._pyjet.AwkwardClusterSequence at 0x7f16e2702b80>"
      ]
     },
     "execution_count": 8,
     "metadata": {},
     "output_type": "execute_result"
    }
   ],
   "source": [
    "cluster_sequence = fastjet.ClusterSequence(\n",
    "    events,\n",
    "    fastjet.JetDefinition(fastjet.antikt_algorithm, 0.5),\n",
    ")\n",
    "cluster_sequence"
   ]
  },
  {
   "cell_type": "code",
   "execution_count": 9,
   "id": "db81d374-402e-4414-9300-74c7b08cf5de",
   "metadata": {},
   "outputs": [
    {
     "data": {
      "text/plain": [
       "<MomentumArray4D [[{px: 0.056, ... E: 17.3}]] type='10000 * var * Momentum4D[\"px...'>"
      ]
     },
     "execution_count": 9,
     "metadata": {},
     "output_type": "execute_result"
    }
   ],
   "source": [
    "clustered_events = cluster_sequence.inclusive_jets()\n",
    "clustered_events"
   ]
  },
  {
   "cell_type": "markdown",
   "id": "ea884fe3-c783-4366-bc20-98a9d492f78c",
   "metadata": {},
   "source": [
    "Histogram the number of particles in events and the number of jets in events."
   ]
  },
  {
   "cell_type": "code",
   "execution_count": 10,
   "id": "4d0530be-b6cf-4886-9512-44a30f3fb975",
   "metadata": {},
   "outputs": [],
   "source": [
    "import hist"
   ]
  },
  {
   "cell_type": "code",
   "execution_count": 11,
   "id": "2ea85e0d-bf37-4b59-8506-62b4d6a38abc",
   "metadata": {},
   "outputs": [
    {
     "data": {
      "text/html": [
       "<html>\n",
       "<div style=\"display:flex; align-items:center;\">\n",
       "<div style=\"width:290px;\">\n",
       "<svg xmlns=\"http://www.w3.org/2000/svg\" viewBox=\"-10 -105 270 120\">\n",
       "<line x1=\"-5\" y1=\"0\" x2=\"255\" y2=\"0\" style=\"fill:none;stroke-width:2;stroke:currentColor\"/>\n",
       "<text text-anchor=\"middle\" x=\"0\" y=\"15\" style=\"fill:currentColor;\">\n",
       "-0.5\n",
       "</text>\n",
       "<text text-anchor=\"middle\" x=\"250\" y=\"15\" style=\"fill:currentColor;\">\n",
       "100\n",
       "</text>\n",
       "<text text-anchor=\"middle\" x=\"125.0\" y=\"15\" style=\"fill:currentColor;\">\n",
       "Axis 0\n",
       "</text>\n",
       "<polyline points=\"  0,0   0,-12.5 2.47525,-12.5 2.47525,-0.348 4.9505,-0.348 4.9505,-1.05 7.42574,-1.05 7.42574,-6.97 9.90099,-6.97 9.90099,-9.76 12.3762,-9.76 12.3762,-11.5 14.8515,-11.5 14.8515,-10.5 17.3267,-10.5 17.3267,-16 19.802,-16 19.802,-15.3 22.2772,-15.3 22.2772,-26.5 24.7525,-26.5 24.7525,-31.4 27.2277,-31.4 27.2277,-35.9 29.703,-35.9 29.703,-33.1 32.1782,-33.1 32.1782,-42.2 34.6535,-42.2 34.6535,-43.6 37.1287,-43.6 37.1287,-46.7 39.604,-46.7 39.604,-53.3 42.0792,-53.3 42.0792,-65.2 44.5545,-65.2 44.5545,-60.3 47.0297,-60.3 47.0297,-63.1 49.505,-63.1 49.505,-75.3 51.9802,-75.3 51.9802,-70.7 54.4554,-70.7 54.4554,-77 56.9307,-77 56.9307,-80.1 59.4059,-80.1 59.4059,-83.3 61.8812,-83.3 61.8812,-92.7 64.3564,-92.7 64.3564,-100 66.8317,-100 66.8317,-88.2 69.3069,-88.2 69.3069,-99 71.7822,-99 71.7822,-94.8 74.2574,-94.8 74.2574,-91.6 76.7327,-91.6 76.7327,-81.2 79.2079,-81.2 79.2079,-90.9 81.6832,-90.9 81.6832,-82.9 84.1584,-82.9 84.1584,-85 86.6337,-85 86.6337,-88.5 89.1089,-88.5 89.1089,-85.4 91.5842,-85.4 91.5842,-81.5 94.0594,-81.5 94.0594,-78.4 96.5347,-78.4 96.5347,-72.5 99.0099,-72.5 99.0099,-73.2 101.485,-73.2 101.485,-67.9 103.96,-67.9 103.96,-61 106.436,-61 106.436,-61.3 108.911,-61.3 108.911,-60.6 111.386,-60.6 111.386,-68.6 113.861,-68.6 113.861,-48.8 116.337,-48.8 116.337,-56.1 118.812,-56.1 118.812,-49.8 121.287,-49.8 121.287,-39 123.762,-39 123.762,-42.2 126.238,-42.2 126.238,-42.5 128.713,-42.5 128.713,-39 131.188,-39 131.188,-33.1 133.663,-33.1 133.663,-33.8 136.139,-33.8 136.139,-39.7 138.614,-39.7 138.614,-23.7 141.089,-23.7 141.089,-28.6 143.564,-28.6 143.564,-24.4 146.04,-24.4 146.04,-18.1 148.515,-18.1 148.515,-22.6 150.99,-22.6 150.99,-21.6 153.465,-21.6 153.465,-20.9 155.941,-20.9 155.941,-18.8 158.416,-18.8 158.416,-20.2 160.891,-20.2 160.891,-19.5 163.366,-19.5 163.366,-15.7 165.842,-15.7 165.842,-11.5 168.317,-11.5 168.317,-10.8 170.792,-10.8 170.792,-10.8 173.267,-10.8 173.267,-10.1 175.743,-10.1 175.743,-8.01 178.218,-8.01 178.218,-6.62 180.693,-6.62 180.693,-6.27 183.168,-6.27 183.168,-7.67 185.644,-7.67 185.644,-7.32 188.119,-7.32 188.119,-5.23 190.594,-5.23 190.594,-5.57 193.069,-5.57 193.069,-4.53 195.545,-4.53 195.545,-6.27 198.02,-6.27 198.02,-6.97 200.495,-6.97 200.495,-2.79 202.97,-2.79 202.97,-2.09 205.446,-2.09 205.446,-4.53 207.921,-4.53 207.921,-3.14 210.396,-3.14 210.396,-2.79 212.871,-2.79 212.871,-2.44 215.347,-2.44 215.347,-3.48 217.822,-3.48 217.822,-2.44 220.297,-2.44 220.297,-1.05 222.772,-1.05 222.772,-1.39 225.248,-1.39 225.248,-2.09 227.723,-2.09 227.723,-1.05 230.198,-1.05 230.198,-1.39 232.673,-1.39 232.673,-0.697 235.149,-0.697 235.149,-2.79 237.624,-2.79 237.624,-0.348 240.099,-0.348 240.099,-0.697 242.574,-0.697 242.574,-0.348 245.05,-0.348 245.05,-0.697 247.525,-0.697 247.525,-0 250,-0 250,0\" style=\"fill:none; stroke:currentColor;\"/>\n",
       "</svg>\n",
       "</div>\n",
       "<div style=\"flex=grow:1;\">\n",
       "Regular(101, -0.5, 100.5, label='Axis 0')<br/>\n",
       "<hr style=\"margin-top:.2em; margin-bottom:.2em;\"/>\n",
       "Double() Σ=9984.0 <em>(10000.0 with flow)</em>\n",
       "\n",
       "</div>\n",
       "</div>\n",
       "</html>"
      ],
      "text/plain": [
       "Hist(Regular(101, -0.5, 100.5, label='Axis 0'), storage=Double()) # Sum: 9984.0 (10000.0 with flow)"
      ]
     },
     "execution_count": 11,
     "metadata": {},
     "output_type": "execute_result"
    }
   ],
   "source": [
    "hist.new.Reg(101, -0.5, 100.5).Double().fill(ak.num(events))"
   ]
  },
  {
   "cell_type": "code",
   "execution_count": 12,
   "id": "b31886cc-08a5-4e4f-89b4-c2ba30e8ae97",
   "metadata": {},
   "outputs": [
    {
     "data": {
      "text/html": [
       "<html>\n",
       "<div style=\"display:flex; align-items:center;\">\n",
       "<div style=\"width:290px;\">\n",
       "<svg xmlns=\"http://www.w3.org/2000/svg\" viewBox=\"-10 -105 270 120\">\n",
       "<line x1=\"-5\" y1=\"0\" x2=\"255\" y2=\"0\" style=\"fill:none;stroke-width:2;stroke:currentColor\"/>\n",
       "<text text-anchor=\"middle\" x=\"0\" y=\"15\" style=\"fill:currentColor;\">\n",
       "-0.5\n",
       "</text>\n",
       "<text text-anchor=\"middle\" x=\"250\" y=\"15\" style=\"fill:currentColor;\">\n",
       "100\n",
       "</text>\n",
       "<text text-anchor=\"middle\" x=\"125.0\" y=\"15\" style=\"fill:currentColor;\">\n",
       "Axis 0\n",
       "</text>\n",
       "<polyline points=\"  0,0   0,-7.59 2.47525,-7.59 2.47525,-0.211 4.9505,-0.211 4.9505,-0.633 7.42574,-0.633 7.42574,-5.7 9.90099,-5.7 9.90099,-7.17 12.3762,-7.17 12.3762,-8.65 14.8515,-8.65 14.8515,-14.8 17.3267,-14.8 17.3267,-16.5 19.802,-16.5 19.802,-22.8 22.2772,-22.8 22.2772,-35 24.7525,-35 24.7525,-38.4 27.2277,-38.4 27.2277,-49.4 29.703,-49.4 29.703,-58.6 32.1782,-58.6 32.1782,-61.4 34.6535,-61.4 34.6535,-66.9 37.1287,-66.9 37.1287,-73 39.604,-73 39.604,-89.5 42.0792,-89.5 42.0792,-86.3 44.5545,-86.3 44.5545,-92.8 47.0297,-92.8 47.0297,-94.9 49.505,-94.9 49.505,-100 51.9802,-100 51.9802,-95.6 54.4554,-95.6 54.4554,-98.1 56.9307,-98.1 56.9307,-92.4 59.4059,-92.4 59.4059,-97.9 61.8812,-97.9 61.8812,-93.5 64.3564,-93.5 64.3564,-81.2 66.8317,-81.2 66.8317,-82.1 69.3069,-82.1 69.3069,-72.8 71.7822,-72.8 71.7822,-70.3 74.2574,-70.3 74.2574,-54.2 76.7327,-54.2 76.7327,-53.2 79.2079,-53.2 79.2079,-49.4 81.6832,-49.4 81.6832,-42.4 84.1584,-42.4 84.1584,-38.6 86.6337,-38.6 86.6337,-30 89.1089,-30 89.1089,-28.1 91.5842,-28.1 91.5842,-24.3 94.0594,-24.3 94.0594,-16.2 96.5347,-16.2 96.5347,-13.9 99.0099,-13.9 99.0099,-13.3 101.485,-13.3 101.485,-8.86 103.96,-8.86 103.96,-6.75 106.436,-6.75 106.436,-4.43 108.911,-4.43 108.911,-4.43 111.386,-4.43 111.386,-2.95 113.861,-2.95 113.861,-1.48 116.337,-1.48 116.337,-0.633 118.812,-0.633 118.812,-1.05 121.287,-1.05 121.287,-1.05 123.762,-1.05 123.762,-0 126.238,-0 126.238,-0 128.713,-0 128.713,-0.422 131.188,-0.422 131.188,-0 133.663,-0 133.663,-0.211 136.139,-0.211 136.139,-0 138.614,-0 138.614,-0 141.089,-0 141.089,-0 143.564,-0 143.564,-0 146.04,-0 146.04,-0 148.515,-0 148.515,-0 150.99,-0 150.99,-0 153.465,-0 153.465,-0 155.941,-0 155.941,-0 158.416,-0 158.416,-0 160.891,-0 160.891,-0 163.366,-0 163.366,-0 165.842,-0 165.842,-0 168.317,-0 168.317,-0 170.792,-0 170.792,-0 173.267,-0 173.267,-0 175.743,-0 175.743,-0 178.218,-0 178.218,-0 180.693,-0 180.693,-0 183.168,-0 183.168,-0 185.644,-0 185.644,-0 188.119,-0 188.119,-0 190.594,-0 190.594,-0 193.069,-0 193.069,-0 195.545,-0 195.545,-0 198.02,-0 198.02,-0 200.495,-0 200.495,-0 202.97,-0 202.97,-0 205.446,-0 205.446,-0 207.921,-0 207.921,-0 210.396,-0 210.396,-0 212.871,-0 212.871,-0 215.347,-0 215.347,-0 217.822,-0 217.822,-0 220.297,-0 220.297,-0 222.772,-0 222.772,-0 225.248,-0 225.248,-0 227.723,-0 227.723,-0 230.198,-0 230.198,-0 232.673,-0 232.673,-0 235.149,-0 235.149,-0 237.624,-0 237.624,-0 240.099,-0 240.099,-0 242.574,-0 242.574,-0 245.05,-0 245.05,-0 247.525,-0 247.525,-0 250,-0 250,0\" style=\"fill:none; stroke:currentColor;\"/>\n",
       "</svg>\n",
       "</div>\n",
       "<div style=\"flex=grow:1;\">\n",
       "Regular(101, -0.5, 100.5, label='Axis 0')<br/>\n",
       "<hr style=\"margin-top:.2em; margin-bottom:.2em;\"/>\n",
       "Double() Σ=10000.0\n",
       "\n",
       "</div>\n",
       "</div>\n",
       "</html>"
      ],
      "text/plain": [
       "Hist(Regular(101, -0.5, 100.5, label='Axis 0'), storage=Double()) # Sum: 10000.0"
      ]
     },
     "execution_count": 12,
     "metadata": {},
     "output_type": "execute_result"
    }
   ],
   "source": [
    "hist.new.Reg(101, -0.5, 100.5).Double().fill(ak.num(clustered_events))"
   ]
  },
  {
   "cell_type": "markdown",
   "id": "3128fd28-51fd-4610-9e9b-2e28381abd27",
   "metadata": {},
   "source": [
    "See what happens when you change $\\Delta R$!\n",
    "\n",
    "<br><br><br><br><br>"
   ]
  },
  {
   "cell_type": "markdown",
   "id": "265eadd2-31db-454d-bfc8-eb21344fdc9b",
   "metadata": {},
   "source": [
    "## The Scikit-HEP way of doing things"
   ]
  },
  {
   "cell_type": "markdown",
   "id": "8466eb1d-9cda-43a0-83f2-4214699eaf7c",
   "metadata": {},
   "source": [
    "Analogous to the concept of code being \"Pythonic\" or \"not Pythonic.\"\n",
    "\n",
    "If all libraries have a similar style, it will be easier to make them work together.\n",
    "\n",
    "<br><br><br><br><br>"
   ]
  },
  {
   "cell_type": "markdown",
   "id": "8dd21a22-a88c-4dfa-bdcf-acb247755b2c",
   "metadata": {},
   "source": [
    "### Communication via arrays"
   ]
  },
  {
   "cell_type": "markdown",
   "id": "fe6b84e8-8e83-4395-ad01-209b17530c4c",
   "metadata": {},
   "source": [
    "Scientific Python beyond HEP communicates via arrays; mostly, but not exclusively NumPy.\n",
    "\n",
    "[NumPy](https://numpy.org/), [Pandas](https://pandas.pydata.org/), [CuPy](https://cupy.dev/), [Sparse](https://sparse.pydata.org/), [xarray](https://docs.xarray.dev/), [Pint](https://pint.readthedocs.io/), [uncertainties](https://pythonhosted.org/uncertainties/numpy_guide.html), [Dask](https://dask.org/), [JAX](https://jax.readthedocs.io/), [TensorFlow](https://www.tensorflow.org/), [PyTorch](https://pytorch.org/), ... can often be interchanged (duck type)."
   ]
  },
  {
   "cell_type": "code",
   "execution_count": 15,
   "id": "caf3884b-977a-4603-9292-9d59cdf2f9f1",
   "metadata": {},
   "outputs": [],
   "source": [
    "import graphviz"
   ]
  },
  {
   "cell_type": "code",
   "execution_count": 20,
   "id": "6676ac8c-e1a8-4064-9876-edadc311b521",
   "metadata": {},
   "outputs": [
    {
     "data": {
      "image/svg+xml": [
       "<?xml version=\"1.0\" encoding=\"UTF-8\" standalone=\"no\"?>\n",
       "<!DOCTYPE svg PUBLIC \"-//W3C//DTD SVG 1.1//EN\"\n",
       " \"http://www.w3.org/Graphics/SVG/1.1/DTD/svg11.dtd\">\n",
       "<!-- Generated by graphviz version 3.0.0 (20220315.2325)\n",
       " -->\n",
       "<!-- Pages: 1 -->\n",
       "<svg width=\"530pt\" height=\"404pt\"\n",
       " viewBox=\"0.00 0.00 530.10 404.00\" xmlns=\"http://www.w3.org/2000/svg\" xmlns:xlink=\"http://www.w3.org/1999/xlink\">\n",
       "<g id=\"graph0\" class=\"graph\" transform=\"scale(1 1) rotate(0) translate(4 400)\">\n",
       "<polygon fill=\"white\" stroke=\"transparent\" points=\"-4,4 -4,-400 526.1,-400 526.1,4 -4,4\"/>\n",
       "<!-- Dask -->\n",
       "<g id=\"node1\" class=\"node\">\n",
       "<title>Dask</title>\n",
       "<ellipse fill=\"none\" stroke=\"black\" cx=\"216.1\" cy=\"-234\" rx=\"33.6\" ry=\"18\"/>\n",
       "<text text-anchor=\"middle\" x=\"216.1\" y=\"-230.3\" font-family=\"Times,serif\" font-size=\"14.00\">Dask</text>\n",
       "</g>\n",
       "<!-- NumPy -->\n",
       "<g id=\"node2\" class=\"node\">\n",
       "<title>NumPy</title>\n",
       "<ellipse fill=\"none\" stroke=\"black\" cx=\"330.1\" cy=\"-18\" rx=\"44.69\" ry=\"18\"/>\n",
       "<text text-anchor=\"middle\" x=\"330.1\" y=\"-14.3\" font-family=\"Times,serif\" font-size=\"14.00\">NumPy</text>\n",
       "</g>\n",
       "<!-- Dask&#45;&gt;NumPy -->\n",
       "<g id=\"edge1\" class=\"edge\">\n",
       "<title>Dask&#45;&gt;NumPy</title>\n",
       "<path fill=\"none\" stroke=\"black\" d=\"M212.48,-216.09C207.88,-197.27 198.6,-166.54 183.1,-144 169.35,-124.02 152.1,-130.09 142.1,-108 135.5,-93.42 132.44,-84.76 142.1,-72 158.57,-50.25 228.61,-34.9 278.37,-26.5\"/>\n",
       "<polygon fill=\"black\" stroke=\"black\" points=\"279.04,-29.94 288.34,-24.86 277.91,-23.03 279.04,-29.94\"/>\n",
       "</g>\n",
       "<!-- CuPy -->\n",
       "<g id=\"node3\" class=\"node\">\n",
       "<title>CuPy</title>\n",
       "<ellipse fill=\"none\" stroke=\"black\" cx=\"35.1\" cy=\"-162\" rx=\"35.19\" ry=\"18\"/>\n",
       "<text text-anchor=\"middle\" x=\"35.1\" y=\"-158.3\" font-family=\"Times,serif\" font-size=\"14.00\">CuPy</text>\n",
       "</g>\n",
       "<!-- Dask&#45;&gt;CuPy -->\n",
       "<g id=\"edge2\" class=\"edge\">\n",
       "<title>Dask&#45;&gt;CuPy</title>\n",
       "<path fill=\"none\" stroke=\"black\" d=\"M189.39,-222.67C158.2,-210.61 106.44,-190.59 71.57,-177.1\"/>\n",
       "<polygon fill=\"black\" stroke=\"black\" points=\"72.8,-173.83 62.21,-173.49 70.27,-180.36 72.8,-173.83\"/>\n",
       "</g>\n",
       "<!-- Sparse -->\n",
       "<g id=\"node4\" class=\"node\">\n",
       "<title>Sparse</title>\n",
       "<ellipse fill=\"none\" stroke=\"black\" cx=\"131.1\" cy=\"-162\" rx=\"42.79\" ry=\"18\"/>\n",
       "<text text-anchor=\"middle\" x=\"131.1\" y=\"-158.3\" font-family=\"Times,serif\" font-size=\"14.00\">Sparse</text>\n",
       "</g>\n",
       "<!-- Dask&#45;&gt;Sparse -->\n",
       "<g id=\"edge3\" class=\"edge\">\n",
       "<title>Dask&#45;&gt;Sparse</title>\n",
       "<path fill=\"none\" stroke=\"black\" d=\"M198.48,-218.5C186.73,-208.81 171.04,-195.9 157.77,-184.96\"/>\n",
       "<polygon fill=\"black\" stroke=\"black\" points=\"159.81,-182.11 149.87,-178.46 155.36,-187.52 159.81,-182.11\"/>\n",
       "</g>\n",
       "<!-- NumPy MaskedArray -->\n",
       "<g id=\"node5\" class=\"node\">\n",
       "<title>NumPy MaskedArray</title>\n",
       "<ellipse fill=\"none\" stroke=\"black\" cx=\"261.1\" cy=\"-90\" rx=\"109.68\" ry=\"18\"/>\n",
       "<text text-anchor=\"middle\" x=\"261.1\" y=\"-86.3\" font-family=\"Times,serif\" font-size=\"14.00\">NumPy MaskedArray</text>\n",
       "</g>\n",
       "<!-- Dask&#45;&gt;NumPy MaskedArray -->\n",
       "<g id=\"edge4\" class=\"edge\">\n",
       "<title>Dask&#45;&gt;NumPy MaskedArray</title>\n",
       "<path fill=\"none\" stroke=\"black\" d=\"M221.44,-216.15C229.11,-191.94 243.33,-147.05 252.5,-118.13\"/>\n",
       "<polygon fill=\"black\" stroke=\"black\" points=\"255.94,-118.86 255.62,-108.27 249.27,-116.74 255.94,-118.86\"/>\n",
       "</g>\n",
       "<!-- Pandas -->\n",
       "<g id=\"node6\" class=\"node\">\n",
       "<title>Pandas</title>\n",
       "<ellipse fill=\"none\" stroke=\"black\" cx=\"350.1\" cy=\"-162\" rx=\"44.39\" ry=\"18\"/>\n",
       "<text text-anchor=\"middle\" x=\"350.1\" y=\"-158.3\" font-family=\"Times,serif\" font-size=\"14.00\">Pandas</text>\n",
       "</g>\n",
       "<!-- Dask&#45;&gt;Pandas -->\n",
       "<g id=\"edge5\" class=\"edge\">\n",
       "<title>Dask&#45;&gt;Pandas</title>\n",
       "<path fill=\"none\" stroke=\"black\" d=\"M239.44,-220.81C260.22,-209.95 290.94,-193.9 314.74,-181.47\"/>\n",
       "<polygon fill=\"black\" stroke=\"black\" points=\"316.57,-184.46 323.81,-176.73 313.33,-178.26 316.57,-184.46\"/>\n",
       "</g>\n",
       "<!-- CuPy&#45;&gt;NumPy -->\n",
       "<g id=\"edge6\" class=\"edge\">\n",
       "<title>CuPy&#45;&gt;NumPy</title>\n",
       "<path fill=\"none\" stroke=\"black\" d=\"M42.42,-144.03C52.12,-123.66 71.19,-90 98.1,-72 151.31,-36.39 225.12,-24.47 275.09,-20.61\"/>\n",
       "<polygon fill=\"black\" stroke=\"black\" points=\"275.63,-24.08 285.37,-19.9 275.15,-17.1 275.63,-24.08\"/>\n",
       "</g>\n",
       "<!-- Sparse&#45;&gt;NumPy -->\n",
       "<g id=\"edge7\" class=\"edge\">\n",
       "<title>Sparse&#45;&gt;NumPy</title>\n",
       "<path fill=\"none\" stroke=\"black\" d=\"M119.43,-144.47C107.36,-125.14 92.44,-93.12 109.1,-72 129.55,-46.06 217.8,-31.38 276.4,-24.33\"/>\n",
       "<polygon fill=\"black\" stroke=\"black\" points=\"277.09,-27.77 286.62,-23.14 276.28,-20.82 277.09,-27.77\"/>\n",
       "</g>\n",
       "<!-- NumPy MaskedArray&#45;&gt;NumPy -->\n",
       "<g id=\"edge8\" class=\"edge\">\n",
       "<title>NumPy MaskedArray&#45;&gt;NumPy</title>\n",
       "<path fill=\"none\" stroke=\"black\" d=\"M277.8,-72.05C286.49,-63.24 297.24,-52.33 306.74,-42.69\"/>\n",
       "<polygon fill=\"black\" stroke=\"black\" points=\"309.5,-44.89 314.02,-35.31 304.51,-39.97 309.5,-44.89\"/>\n",
       "</g>\n",
       "<!-- Pandas&#45;&gt;NumPy -->\n",
       "<g id=\"edge9\" class=\"edge\">\n",
       "<title>Pandas&#45;&gt;NumPy</title>\n",
       "<path fill=\"none\" stroke=\"black\" d=\"M362.76,-144.41C374.88,-126.39 389.97,-96.85 380.1,-72 375.47,-60.36 366.95,-49.8 358.23,-41.22\"/>\n",
       "<polygon fill=\"black\" stroke=\"black\" points=\"360.34,-38.41 350.61,-34.21 355.6,-43.56 360.34,-38.41\"/>\n",
       "</g>\n",
       "<!-- Pandas&#45;&gt;NumPy MaskedArray -->\n",
       "<g id=\"edge10\" class=\"edge\">\n",
       "<title>Pandas&#45;&gt;NumPy MaskedArray</title>\n",
       "<path fill=\"none\" stroke=\"black\" d=\"M330.34,-145.46C318.56,-136.19 303.37,-124.25 290.22,-113.91\"/>\n",
       "<polygon fill=\"black\" stroke=\"black\" points=\"292.37,-111.15 282.35,-107.71 288.04,-116.65 292.37,-111.15\"/>\n",
       "</g>\n",
       "<!-- JAX -->\n",
       "<g id=\"node7\" class=\"node\">\n",
       "<title>JAX</title>\n",
       "<ellipse fill=\"none\" stroke=\"black\" cx=\"467.1\" cy=\"-234\" rx=\"27\" ry=\"18\"/>\n",
       "<text text-anchor=\"middle\" x=\"467.1\" y=\"-230.3\" font-family=\"Times,serif\" font-size=\"14.00\">JAX</text>\n",
       "</g>\n",
       "<!-- JAX&#45;&gt;NumPy -->\n",
       "<g id=\"edge11\" class=\"edge\">\n",
       "<title>JAX&#45;&gt;NumPy</title>\n",
       "<path fill=\"none\" stroke=\"black\" d=\"M470.54,-216.02C475.95,-184.38 482.8,-115.63 451.1,-72 434.49,-49.15 405.86,-36.02 380.62,-28.55\"/>\n",
       "<polygon fill=\"black\" stroke=\"black\" points=\"381.35,-25.12 370.78,-25.86 379.5,-31.87 381.35,-25.12\"/>\n",
       "</g>\n",
       "<!-- Pint -->\n",
       "<g id=\"node8\" class=\"node\">\n",
       "<title>Pint</title>\n",
       "<ellipse fill=\"none\" stroke=\"black\" cx=\"336.1\" cy=\"-306\" rx=\"29.8\" ry=\"18\"/>\n",
       "<text text-anchor=\"middle\" x=\"336.1\" y=\"-302.3\" font-family=\"Times,serif\" font-size=\"14.00\">Pint</text>\n",
       "</g>\n",
       "<!-- Pint&#45;&gt;Dask -->\n",
       "<g id=\"edge12\" class=\"edge\">\n",
       "<title>Pint&#45;&gt;Dask</title>\n",
       "<path fill=\"none\" stroke=\"black\" d=\"M315.47,-292.97C296.59,-281.95 268.39,-265.51 246.86,-252.94\"/>\n",
       "<polygon fill=\"black\" stroke=\"black\" points=\"248.48,-249.84 238.08,-247.82 244.95,-255.89 248.48,-249.84\"/>\n",
       "</g>\n",
       "<!-- Pint&#45;&gt;NumPy -->\n",
       "<g id=\"edge14\" class=\"edge\">\n",
       "<title>Pint&#45;&gt;NumPy</title>\n",
       "<path fill=\"none\" stroke=\"black\" d=\"M347.99,-289.1C364.2,-266.34 392.42,-222.51 403.1,-180 409.01,-156.46 397.09,-73.84 396.1,-72 388.84,-58.58 376.62,-47.33 364.65,-38.7\"/>\n",
       "<polygon fill=\"black\" stroke=\"black\" points=\"366.3,-35.58 356.05,-32.88 362.37,-41.38 366.3,-35.58\"/>\n",
       "</g>\n",
       "<!-- Pint&#45;&gt;Pandas -->\n",
       "<g id=\"edge13\" class=\"edge\">\n",
       "<title>Pint&#45;&gt;Pandas</title>\n",
       "<path fill=\"none\" stroke=\"black\" d=\"M337.79,-287.87C340.17,-263.67 344.55,-219.21 347.4,-190.39\"/>\n",
       "<polygon fill=\"black\" stroke=\"black\" points=\"350.9,-190.48 348.4,-180.19 343.94,-189.8 350.9,-190.48\"/>\n",
       "</g>\n",
       "<!-- xarray -->\n",
       "<g id=\"node9\" class=\"node\">\n",
       "<title>xarray</title>\n",
       "<ellipse fill=\"none\" stroke=\"black\" cx=\"307.1\" cy=\"-378\" rx=\"40.89\" ry=\"18\"/>\n",
       "<text text-anchor=\"middle\" x=\"307.1\" y=\"-374.3\" font-family=\"Times,serif\" font-size=\"14.00\">xarray</text>\n",
       "</g>\n",
       "<!-- xarray&#45;&gt;Dask -->\n",
       "<g id=\"edge15\" class=\"edge\">\n",
       "<title>xarray&#45;&gt;Dask</title>\n",
       "<path fill=\"none\" stroke=\"black\" d=\"M292.71,-360.9C283.94,-350.7 272.77,-337.01 264.1,-324 250.54,-303.67 237.53,-279.13 228.48,-260.97\"/>\n",
       "<polygon fill=\"black\" stroke=\"black\" points=\"231.44,-259.04 223.89,-251.61 225.15,-262.13 231.44,-259.04\"/>\n",
       "</g>\n",
       "<!-- xarray&#45;&gt;NumPy -->\n",
       "<g id=\"edge18\" class=\"edge\">\n",
       "<title>xarray&#45;&gt;NumPy</title>\n",
       "<path fill=\"none\" stroke=\"black\" d=\"M344.06,-370.18C405.53,-356.46 522.1,-319.32 522.1,-235 522.1,-235 522.1,-235 522.1,-161 522.1,-116.06 508.05,-101.45 474.1,-72 447.7,-49.11 410.55,-35.76 380.59,-28.18\"/>\n",
       "<polygon fill=\"black\" stroke=\"black\" points=\"381.27,-24.75 370.73,-25.83 379.65,-31.56 381.27,-24.75\"/>\n",
       "</g>\n",
       "<!-- xarray&#45;&gt;CuPy -->\n",
       "<g id=\"edge16\" class=\"edge\">\n",
       "<title>xarray&#45;&gt;CuPy</title>\n",
       "<path fill=\"none\" stroke=\"black\" d=\"M276.96,-365.49C254.23,-356.09 222.83,-341.5 198.1,-324 140.03,-282.91 83.54,-220.65 54.77,-186.86\"/>\n",
       "<polygon fill=\"black\" stroke=\"black\" points=\"57.19,-184.3 48.06,-178.91 51.84,-188.81 57.19,-184.3\"/>\n",
       "</g>\n",
       "<!-- xarray&#45;&gt;Sparse -->\n",
       "<g id=\"edge17\" class=\"edge\">\n",
       "<title>xarray&#45;&gt;Sparse</title>\n",
       "<path fill=\"none\" stroke=\"black\" d=\"M286.15,-362.35C257.12,-341.08 204.67,-299.01 173.1,-252 159.83,-232.25 148.58,-207.66 141.06,-189.34\"/>\n",
       "<polygon fill=\"black\" stroke=\"black\" points=\"144.24,-187.86 137.29,-179.87 137.74,-190.46 144.24,-187.86\"/>\n",
       "</g>\n",
       "<!-- xarray&#45;&gt;NumPy MaskedArray -->\n",
       "<g id=\"edge20\" class=\"edge\">\n",
       "<title>xarray&#45;&gt;NumPy MaskedArray</title>\n",
       "<path fill=\"none\" stroke=\"black\" d=\"M303.71,-359.84C301.7,-349.48 299.16,-336 297.1,-324 284.37,-249.81 271.35,-161.96 265.03,-118.37\"/>\n",
       "<polygon fill=\"black\" stroke=\"black\" points=\"268.46,-117.67 263.57,-108.28 261.53,-118.68 268.46,-117.67\"/>\n",
       "</g>\n",
       "<!-- xarray&#45;&gt;Pandas -->\n",
       "<g id=\"edge19\" class=\"edge\">\n",
       "<title>xarray&#45;&gt;Pandas</title>\n",
       "<path fill=\"none\" stroke=\"black\" d=\"M333.75,-364.03C348.89,-355.08 366.49,-341.62 375.1,-324 396.47,-280.24 377.78,-222.51 363.26,-189.4\"/>\n",
       "<polygon fill=\"black\" stroke=\"black\" points=\"366.28,-187.59 358.93,-179.96 359.91,-190.51 366.28,-187.59\"/>\n",
       "</g>\n",
       "<!-- xarray&#45;&gt;JAX -->\n",
       "<g id=\"edge22\" class=\"edge\">\n",
       "<title>xarray&#45;&gt;JAX</title>\n",
       "<path fill=\"none\" stroke=\"black\" d=\"M342.19,-368.58C368.17,-360.79 402.92,-346.88 426.1,-324 443.44,-306.88 454.21,-281.05 460.34,-261.62\"/>\n",
       "<polygon fill=\"black\" stroke=\"black\" points=\"463.74,-262.43 463.2,-251.85 457.03,-260.46 463.74,-262.43\"/>\n",
       "</g>\n",
       "<!-- xarray&#45;&gt;Pint -->\n",
       "<g id=\"edge21\" class=\"edge\">\n",
       "<title>xarray&#45;&gt;Pint</title>\n",
       "<path fill=\"none\" stroke=\"black\" d=\"M314.12,-360.05C317.47,-351.97 321.55,-342.12 325.28,-333.11\"/>\n",
       "<polygon fill=\"black\" stroke=\"black\" points=\"328.55,-334.37 329.14,-323.79 322.08,-331.69 328.55,-334.37\"/>\n",
       "</g>\n",
       "</g>\n",
       "</svg>\n"
      ],
      "text/plain": [
       "<graphviz.graphs.Digraph at 0x7f171dd85f10>"
      ]
     },
     "execution_count": 20,
     "metadata": {},
     "output_type": "execute_result"
    }
   ],
   "source": [
    "# Credit: Stephan Hoyer https://gist.github.com/shoyer/7936a93843354299368145e8266c5d83\n",
    "# libraries that only interact with NumPy are not listed, e.g., TensorFlow, PyTorch, scipy.sparse\n",
    "g = graphviz.Digraph()\n",
    "g.edge(\"Dask\", \"NumPy\")\n",
    "g.edge(\"Dask\", \"CuPy\")\n",
    "g.edge(\"Dask\", \"Sparse\")\n",
    "g.edge(\"Dask\", \"NumPy MaskedArray\")\n",
    "g.edge(\"Dask\", \"Pandas\")\n",
    "g.edge(\"CuPy\", \"NumPy\")\n",
    "g.edge(\"Sparse\", \"NumPy\")\n",
    "g.edge(\"NumPy MaskedArray\", \"NumPy\")\n",
    "g.edge(\"Pandas\", \"NumPy\")\n",
    "g.edge(\"Pandas\", \"NumPy MaskedArray\")\n",
    "g.edge(\"JAX\", \"NumPy\")\n",
    "g.edge(\"Pint\", \"Dask\")\n",
    "g.edge(\"Pint\", \"Pandas\")\n",
    "g.edge(\"Pint\", \"NumPy\")\n",
    "g.edge(\"xarray\", \"Dask\")\n",
    "g.edge(\"xarray\", \"CuPy\")\n",
    "g.edge(\"xarray\", \"Sparse\")\n",
    "g.edge(\"xarray\", \"NumPy\")\n",
    "g.edge(\"xarray\", \"Pandas\")\n",
    "g.edge(\"xarray\", \"NumPy MaskedArray\")\n",
    "g.edge(\"xarray\", \"Pint\")\n",
    "g.edge(\"xarray\", \"JAX\")\n",
    "g"
   ]
  },
  {
   "cell_type": "markdown",
   "id": "1dcb259c-cdc7-43a2-840c-2d38aef2586d",
   "metadata": {},
   "source": [
    "<br><br><br><br><br>"
   ]
  },
  {
   "cell_type": "markdown",
   "id": "9a61ef44-e126-4e7f-9f77-2e559634c8be",
   "metadata": {},
   "source": [
    "Awkward Array is our contribution to that list."
   ]
  },
  {
   "cell_type": "code",
   "execution_count": 34,
   "id": "30a62dc9-a279-45de-a130-d44e5fb5922b",
   "metadata": {},
   "outputs": [],
   "source": [
    "import skhep_testdata"
   ]
  },
  {
   "cell_type": "code",
   "execution_count": 29,
   "id": "f4d66edc-2a09-45b3-89e4-d0ddb1c42f14",
   "metadata": {},
   "outputs": [
    {
     "data": {
      "text/plain": [
       "<Array [{NJet: 0, ... EventWeight: 0.00876}] type='2421 * {\"NJet\": int32, \"Jet_P...'>"
      ]
     },
     "execution_count": 29,
     "metadata": {},
     "output_type": "execute_result"
    }
   ],
   "source": [
    "array = uproot.open(skhep_testdata.data_path(\"uproot-HZZ.root\"))[\"events\"].arrays()\n",
    "array"
   ]
  },
  {
   "cell_type": "code",
   "execution_count": 31,
   "id": "7eb3f8d3-1b9d-4922-912f-5fec591407a7",
   "metadata": {},
   "outputs": [
    {
     "data": {
      "text/plain": [
       "<Record ... EventWeight: 0.00927} type='{\"NJet\": int32, \"Jet_Px\": var * float32,...'>"
      ]
     },
     "execution_count": 31,
     "metadata": {},
     "output_type": "execute_result"
    }
   ],
   "source": [
    "array[0]"
   ]
  },
  {
   "cell_type": "code",
   "execution_count": 78,
   "id": "5cffe871-df59-464b-8fbc-7d5c0b607f4d",
   "metadata": {},
   "outputs": [
    {
     "data": {
      "text/plain": [
       "array([(  5.912771,   2.5636332), ( 24.765203, -16.34911  ),\n",
       "       (-25.785088,  16.237131 ), ..., ( 18.101646,  50.290718 ),\n",
       "       ( 79.87519 , -52.35145  ), ( 19.713749,  -3.5954182)],\n",
       "      dtype=[('MET_px', '<f4'), ('MET_py', '<f4')])"
      ]
     },
     "execution_count": 78,
     "metadata": {},
     "output_type": "execute_result"
    }
   ],
   "source": [
    "nparray = ak.to_numpy(array[[\"MET_px\", \"MET_py\"]])\n",
    "nparray"
   ]
  },
  {
   "cell_type": "markdown",
   "id": "7d0b2c06-96bc-44ce-9c2d-dfadb4783b9b",
   "metadata": {},
   "source": [
    "<br><br><br><br><br>"
   ]
  },
  {
   "cell_type": "markdown",
   "id": "11378505-8cc1-43c1-a2d5-995507bdf8e1",
   "metadata": {},
   "source": [
    "But so are Vector's array backends."
   ]
  },
  {
   "cell_type": "code",
   "execution_count": 48,
   "id": "9c4d9587-d871-4a4e-8ed7-0cd094324c9f",
   "metadata": {},
   "outputs": [
    {
     "data": {
      "text/plain": [
       "[vector._backends.numpy_.MomentumNumpy2D,\n",
       " vector._methods.PlanarMomentum,\n",
       " vector._methods.Momentum,\n",
       " vector._methods.MomentumProtocolPlanar,\n",
       " vector._backends.numpy_.VectorNumpy2D,\n",
       " vector._backends.numpy_.VectorNumpy,\n",
       " vector._methods.Planar,\n",
       " vector._methods.Vector2D,\n",
       " vector._methods.Vector,\n",
       " vector._methods.VectorProtocolPlanar,\n",
       " vector._methods.VectorProtocol,\n",
       " vector._backends.numpy_.GetItem,\n",
       " numpy.ndarray,\n",
       " object]"
      ]
     },
     "execution_count": 48,
     "metadata": {},
     "output_type": "execute_result"
    }
   ],
   "source": [
    "vector.MomentumNumpy2D.mro()"
   ]
  },
  {
   "cell_type": "code",
   "execution_count": 79,
   "id": "a1adb167-6515-485e-a3d5-2ae617ef8d22",
   "metadata": {},
   "outputs": [
    {
     "data": {
      "text/plain": [
       "('MET_px', 'MET_py')"
      ]
     },
     "execution_count": 79,
     "metadata": {},
     "output_type": "execute_result"
    }
   ],
   "source": [
    "nparray.dtype.names"
   ]
  },
  {
   "cell_type": "code",
   "execution_count": 80,
   "id": "192c06e8-82b4-4b40-8cca-2c265af44872",
   "metadata": {},
   "outputs": [],
   "source": [
    "nparray.dtype.names = [\"px\", \"py\"]"
   ]
  },
  {
   "cell_type": "code",
   "execution_count": 81,
   "id": "b4e4a06c-b7f0-4e1d-8cf0-55593b809f75",
   "metadata": {},
   "outputs": [
    {
     "data": {
      "text/plain": [
       "MomentumNumpy2D([(  5.912771,   2.5636332), ( 24.765203, -16.34911  ),\n",
       "                 (-25.785088,  16.237131 ), ..., ( 18.101646,  50.290718 ),\n",
       "                 ( 79.87519 , -52.35145  ), ( 19.713749,  -3.5954182)],\n",
       "                dtype=[('x', '<f4'), ('y', '<f4')])"
      ]
     },
     "execution_count": 81,
     "metadata": {},
     "output_type": "execute_result"
    }
   ],
   "source": [
    "npvectors = asnumpy.view(vector.MomentumNumpy2D)\n",
    "npvectors"
   ]
  },
  {
   "cell_type": "code",
   "execution_count": 82,
   "id": "cd74a408-afad-4465-9d44-6bad0e72ae48",
   "metadata": {},
   "outputs": [
    {
     "data": {
      "text/plain": [
       "array([ 6.4446163, 29.675053 , 30.471546 , ..., 53.449284 , 95.502464 ,\n",
       "       20.038935 ], dtype=float32)"
      ]
     },
     "execution_count": 82,
     "metadata": {},
     "output_type": "execute_result"
    }
   ],
   "source": [
    "npvectors.pt"
   ]
  },
  {
   "cell_type": "code",
   "execution_count": 83,
   "id": "4cdb0930-4022-4b08-b7e4-c43ee446827d",
   "metadata": {},
   "outputs": [
    {
     "data": {
      "text/plain": [
       "MomentumNumpy2D([( 6.4446163,  0.40911174), (29.675053 , -0.58348763),\n",
       "                 (30.471546 ,  2.5796134 ), ..., (53.449284 ,  1.2252938 ),\n",
       "                 (95.502464 , -0.58017296), (20.038935 , -0.18039851)],\n",
       "                dtype=[('rho', '<f4'), ('phi', '<f4')])"
      ]
     },
     "execution_count": 83,
     "metadata": {},
     "output_type": "execute_result"
    }
   ],
   "source": [
    "npvectors.to_rhophi()"
   ]
  },
  {
   "cell_type": "code",
   "execution_count": 84,
   "id": "f117c27a-cb78-4cdd-8309-03f6f053b2da",
   "metadata": {},
   "outputs": [
    {
     "data": {
      "text/plain": [
       "array([ 6.4446163, 29.675053 , 30.471546 , ..., 53.449284 , 95.502464 ,\n",
       "       20.038935 ], dtype=float32)"
      ]
     },
     "execution_count": 84,
     "metadata": {},
     "output_type": "execute_result"
    }
   ],
   "source": [
    "abs(npvectors)"
   ]
  },
  {
   "cell_type": "code",
   "execution_count": 87,
   "id": "ef1c46aa-8966-41f3-a364-190055fbde10",
   "metadata": {},
   "outputs": [
    {
     "data": {
      "text/plain": [
       "MomentumNumpy2D([( -94.08723 ,   2.5636332), ( -75.234795, -16.34911  ),\n",
       "                 (-125.78509 ,  16.237131 ), ..., ( -81.89835 ,  50.290718 ),\n",
       "                 ( -20.12481 , -52.35145  ), ( -80.286255,  -3.5954182)],\n",
       "                dtype=[('x', '<f4'), ('y', '<f4')])"
      ]
     },
     "execution_count": 87,
     "metadata": {},
     "output_type": "execute_result"
    }
   ],
   "source": [
    "npvectors + vector.obj(pt=100, phi=np.pi)"
   ]
  },
  {
   "cell_type": "markdown",
   "id": "b69ab023-4e97-499a-94c5-64cfc02493e1",
   "metadata": {},
   "source": [
    "<br><br><br><br><br>"
   ]
  },
  {
   "cell_type": "markdown",
   "id": "c1748b89-b635-46f8-b036-982edacb7f81",
   "metadata": {},
   "source": [
    "Vector (currently!) has three backends:\n",
    "\n",
    "   * Python object of one vector (for completeness)\n",
    "   * NumPy subclass of many vectors\n",
    "   * Awkward Array of vectors in lists and other structures\n",
    "\n",
    "To make an Awkward Array of Lorentz vectors, name the record `\"Momentum4D\"` (using `with_name`), name the fields vector components (using `ak.zip`), and\n",
    "\n",
    "```python\n",
    "vector.register_awkward()\n",
    "```\n",
    "\n",
    "once globally."
   ]
  },
  {
   "cell_type": "markdown",
   "id": "ce24f30a-d8f4-4196-9ff7-4d32f76a0d5b",
   "metadata": {},
   "source": [
    "Here's a slick one-liner:"
   ]
  },
  {
   "cell_type": "code",
   "execution_count": 71,
   "id": "b1efc69f-1e22-4ef9-93c4-fcad0a2f4f44",
   "metadata": {},
   "outputs": [
    {
     "data": {
      "text/plain": [
       "<MomentumArray4D [[{px: -52.9, py: -11.7, ... E: 69.6}]] type='2421 * var * Mome...'>"
      ]
     },
     "execution_count": 71,
     "metadata": {},
     "output_type": "execute_result"
    }
   ],
   "source": [
    "akvectors = ak.zip(dict(zip([\"px\", \"py\", \"pz\", \"E\"], ak.unzip(array[[\"Muon_Px\", \"Muon_Py\", \"Muon_Pz\", \"Muon_E\"]]))), with_name=\"Momentum4D\")\n",
    "akvectors"
   ]
  },
  {
   "cell_type": "code",
   "execution_count": 73,
   "id": "523366b0-256b-4389-8a19-d555f5996b20",
   "metadata": {},
   "outputs": [
    {
     "data": {
      "text/plain": [
       "<Array [[54.2, 37.7], [24.4, ... 63.6], [42.9]] type='2421 * var * float32'>"
      ]
     },
     "execution_count": 73,
     "metadata": {},
     "output_type": "execute_result"
    }
   ],
   "source": [
    "akvectors.pt"
   ]
  },
  {
   "cell_type": "code",
   "execution_count": 76,
   "id": "c0d24a6e-4b1f-4600-8504-d5afccfd7e78",
   "metadata": {},
   "outputs": [
    {
     "data": {
      "text/plain": [
       "<MomentumArray4D [[{rho: 54.2, phi: -2.92, ... E: 69.6}]] type='2421 * var * Mom...'>"
      ]
     },
     "execution_count": 76,
     "metadata": {},
     "output_type": "execute_result"
    }
   ],
   "source": [
    "akvectors.to_rhophietat()"
   ]
  },
  {
   "cell_type": "code",
   "execution_count": 77,
   "id": "0cc35eae-c6b4-4992-be9a-9b4f970b1295",
   "metadata": {},
   "outputs": [
    {
     "data": {
      "text/plain": [
       "<Array [[0.105, 0.105], ... [0.106]] type='2421 * var * float32'>"
      ]
     },
     "execution_count": 77,
     "metadata": {},
     "output_type": "execute_result"
    }
   ],
   "source": [
    "abs(akvectors)"
   ]
  },
  {
   "cell_type": "code",
   "execution_count": 89,
   "id": "cd990134-f99a-4ce3-9f87-84101bd00ffc",
   "metadata": {},
   "outputs": [
    {
     "data": {
      "text/plain": [
       "<MomentumArray4D [[{x: -153, y: -11.7, ... t: 170}]] type='2421 * var * Momentum...'>"
      ]
     },
     "execution_count": 89,
     "metadata": {},
     "output_type": "execute_result"
    }
   ],
   "source": [
    "akvectors + vector.obj(pt=100, phi=np.pi, eta=0.5, E=100)"
   ]
  },
  {
   "cell_type": "markdown",
   "id": "9f5ab6a4-11ea-461d-b441-8fce08fd9edd",
   "metadata": {},
   "source": [
    "<br><br><br><br><br>"
   ]
  },
  {
   "cell_type": "markdown",
   "id": "646296b4-9f77-41eb-bf91-d573abde959c",
   "metadata": {},
   "source": [
    "Quick example: $\\Delta R$ between all pairs of muons."
   ]
  },
  {
   "cell_type": "code",
   "execution_count": 91,
   "id": "954c5bc2-7455-41f7-b43b-da2fd6fdf242",
   "metadata": {},
   "outputs": [
    {
     "data": {
      "text/plain": [
       "(<MomentumArray4D [[{px: -52.9, py: -11.7, ... [], []] type='2421 * var * Momentu...'>,\n",
       " <MomentumArray4D [[{px: 37.7, py: 0.693, ... [], []] type='2421 * var * Momentum...'>)"
      ]
     },
     "execution_count": 91,
     "metadata": {},
     "output_type": "execute_result"
    }
   ],
   "source": [
    "mu1, mu2 = ak.unzip(ak.combinations(akvectors, 2))\n",
    "mu1, mu2"
   ]
  },
  {
   "cell_type": "code",
   "execution_count": 92,
   "id": "99a3c35a-172d-4029-a509-6f89b279e1a1",
   "metadata": {},
   "outputs": [
    {
     "data": {
      "text/plain": [
       "<Array [[2.95], [], [2.13], ... [], [], [], []] type='2421 * var * float32'>"
      ]
     },
     "execution_count": 92,
     "metadata": {},
     "output_type": "execute_result"
    }
   ],
   "source": [
    "mu1.deltaR(mu2)"
   ]
  },
  {
   "cell_type": "markdown",
   "id": "4c7b1071-b0c6-4064-88f7-56ba2dd87418",
   "metadata": {},
   "source": [
    "<br><br><br><br><br>"
   ]
  },
  {
   "cell_type": "markdown",
   "id": "0e360ea6-d3f2-486b-975c-453c0e02710e",
   "metadata": {},
   "source": [
    "### Small code-to-data movement ratio"
   ]
  },
  {
   "cell_type": "markdown",
   "id": "a8628980-8308-4805-b828-76ffd219e4ad",
   "metadata": {},
   "source": []
  },
  {
   "cell_type": "code",
   "execution_count": null,
   "id": "f096ccf3-83af-442b-9ccc-4e5888c7f6b8",
   "metadata": {},
   "outputs": [],
   "source": []
  },
  {
   "cell_type": "code",
   "execution_count": null,
   "id": "566e25b3-2bad-495c-aa88-bfb54324f085",
   "metadata": {},
   "outputs": [],
   "source": []
  },
  {
   "cell_type": "code",
   "execution_count": null,
   "id": "e49398ca-75a9-4dcf-9ff1-23cf4100d0cb",
   "metadata": {},
   "outputs": [],
   "source": []
  },
  {
   "cell_type": "code",
   "execution_count": null,
   "id": "99910e11-08b7-4ab5-8b86-15d513ef8d93",
   "metadata": {},
   "outputs": [],
   "source": []
  },
  {
   "cell_type": "code",
   "execution_count": null,
   "id": "224fc2fb-25dd-4592-88f0-d0b4ca5155af",
   "metadata": {},
   "outputs": [],
   "source": []
  },
  {
   "cell_type": "code",
   "execution_count": null,
   "id": "88ec71a3-8673-462d-be43-e441b72b8546",
   "metadata": {},
   "outputs": [],
   "source": []
  },
  {
   "cell_type": "code",
   "execution_count": null,
   "id": "77c979fe-14ce-48f0-9a04-107c5fe9580d",
   "metadata": {},
   "outputs": [],
   "source": []
  },
  {
   "cell_type": "code",
   "execution_count": null,
   "id": "d45090de-2310-4772-8fff-c5256ed165ef",
   "metadata": {},
   "outputs": [],
   "source": []
  },
  {
   "cell_type": "code",
   "execution_count": null,
   "id": "869b2588-95ac-4d02-980f-f764fc6e8d24",
   "metadata": {},
   "outputs": [],
   "source": []
  }
 ],
 "metadata": {
  "kernelspec": {
   "display_name": "Python 3 (ipykernel)",
   "language": "python",
   "name": "python3"
  },
  "language_info": {
   "codemirror_mode": {
    "name": "ipython",
    "version": 3
   },
   "file_extension": ".py",
   "mimetype": "text/x-python",
   "name": "python",
   "nbconvert_exporter": "python",
   "pygments_lexer": "ipython3",
   "version": "3.9.12"
  }
 },
 "nbformat": 4,
 "nbformat_minor": 5
}
