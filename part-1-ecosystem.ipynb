{
 "cells": [
  {
   "cell_type": "markdown",
   "id": "cd8ce77f-6e6e-4e6a-ae13-edabf4661559",
   "metadata": {},
   "source": [
    "# Scikit-HEP ecosystem updates"
   ]
  },
  {
   "cell_type": "markdown",
   "id": "a7df2443-3e59-40a6-a121-94ecbe3dc5a3",
   "metadata": {},
   "source": [
    "**Note:** although I'm presenting in Jupyter, this is a talk, rather than a tutorial. You don't have to follow along.\n",
    "\n",
    "<br><br><br><br><br>"
   ]
  },
  {
   "cell_type": "markdown",
   "id": "505cd924-75d2-445f-91cd-ed0864e1de2a",
   "metadata": {},
   "source": [
    "## State of the ecosystem"
   ]
  },
  {
   "cell_type": "markdown",
   "id": "8a6d6993-35a8-4202-99c7-afe341d3d9ee",
   "metadata": {},
   "source": [
    "<table width=\"100%\"><tr style=\"background: white\">\n",
    "    <td align=\"left\" width=\"50%\"><img src=\"img/shells-border.png\" width=\"95%\"></td>\n",
    "    <td align=\"right\" width=\"50%\"><img src=\"img/shells-hep.png\" width=\"95%\"></td>\n",
    "</tr></table>\n",
    "\n",
    "<br><br><br><br><br>"
   ]
  },
  {
   "cell_type": "markdown",
   "id": "544ed9c6-2663-4b5b-82e6-f00a90dea932",
   "metadata": {},
   "source": [
    "<img src=\"img/pip-allos-scikithep-log.png\" width=\"100%\">\n",
    "\n",
    "<br><br><br><br><br>"
   ]
  },
  {
   "cell_type": "markdown",
   "id": "76892e2c-c9c5-4295-926d-c823f42665c1",
   "metadata": {
    "tags": []
   },
   "source": [
    "## There are more tools than I could reasonably tell you about"
   ]
  },
  {
   "cell_type": "markdown",
   "id": "bdddb119-7bc6-4f43-a22b-070f17bfba6e",
   "metadata": {},
   "source": [
    "And that's good:\n",
    "\n",
    "   * approaching the ideal of each does one thing well\n",
    "   * and is maintained by enthusiastic developers with recognition for their work\n",
    "   * but we also know about each other and ensure that these tools work together\n",
    "\n",
    "<br><br><br><br><br>"
   ]
  },
  {
   "cell_type": "markdown",
   "id": "1a96124b-7c54-4071-a459-3c3f47edab12",
   "metadata": {},
   "source": [
    "## Illustrative vertical slice: Uproot → Awkward Array → Vector → fastjet → hist"
   ]
  },
  {
   "cell_type": "markdown",
   "id": "14f07489-7b21-46c8-8fd1-e0d7d175a198",
   "metadata": {},
   "source": [
    "Why these five?\n",
    "\n",
    "<br><br>\n",
    "\n",
    "<img src=\"img/uproot-logo.png\" width=\"200px\">\n",
    "\n",
    "<p style=\"font-size: 14pt\">Reads ROOT data as <span style=\"background: yellow\">arrays</span>.</p>\n",
    "\n",
    "<br><br>\n",
    "\n",
    "<img src=\"img/awkward-logo.png\" width=\"200px\">\n",
    "\n",
    "<p style=\"font-size: 14pt\">Manipulates <span style=\"background: yellow\">arrays</span> of arbitrary data structures.</p>\n",
    "\n",
    "<br><br>\n",
    "\n",
    "<img src=\"img/vector-logo.png\" width=\"200px\">\n",
    "\n",
    "<p style=\"font-size: 14pt\">Manipulates <span style=\"background: yellow\">arrays</span> of 2D, 3D, and Lorentz vectors.</p>\n",
    "\n",
    "<br><br>\n",
    "\n",
    "<img src=\"img/fastjet-logo-300px.png\" width=\"200px\">\n",
    "\n",
    "<p style=\"font-size: 14pt\">Finds jets in <span style=\"background: yellow\">arrays</span> of Lorentz vectors.</p>\n",
    "\n",
    "<br><br>\n",
    "\n",
    "<img src=\"img/hist-logo.png\" width=\"200px\">\n",
    "\n",
    "<p style=\"font-size: 14pt\">Fills histograms with <span style=\"background: yellow\">arrays</span>.</p>\n",
    "\n",
    "<br><br><br><br><br>"
   ]
  },
  {
   "cell_type": "markdown",
   "id": "5eedf2ce-dde4-4da2-905e-56e457adb6d8",
   "metadata": {},
   "source": [
    "## Major trend (back) toward arrays"
   ]
  },
  {
   "cell_type": "markdown",
   "id": "f5aee425-f5f1-4065-8cc4-7777dae019a0",
   "metadata": {},
   "source": [
    "<img src=\"img/chep-papers-paradigm.png\" width=\"85%\">\n",
    "\n",
    "<br><br><br><br><br>"
   ]
  },
  {
   "cell_type": "markdown",
   "id": "01a5c0a7-5a92-44ef-ac3e-3a922b231cad",
   "metadata": {},
   "source": [
    "## Speedrun through the vertical slice"
   ]
  },
  {
   "cell_type": "markdown",
   "id": "9021d59d-e851-4454-8969-d4269a8ee1a5",
   "metadata": {},
   "source": [
    "Get a TTree with Uproot (from a tutorial 2 years ago)."
   ]
  },
  {
   "cell_type": "code",
   "execution_count": 1,
   "id": "e2e8303e-e18d-41de-b652-ba0609be409a",
   "metadata": {},
   "outputs": [],
   "source": [
    "import uproot"
   ]
  },
  {
   "cell_type": "code",
   "execution_count": 2,
   "id": "df794175-7b62-454a-acdd-9769d78c1670",
   "metadata": {},
   "outputs": [
    {
     "data": {
      "text/plain": [
       "<TTree 'tree' (52 branches) at 0x7f171e713c40>"
      ]
     },
     "execution_count": 2,
     "metadata": {},
     "output_type": "execute_result"
    }
   ],
   "source": [
    "tree = uproot.open(\"https://github.com/jpivarski-talks/2020-04-08-eic-jlab/raw/master/open_charm_18x275_10k.root:events/tree\")\n",
    "tree"
   ]
  },
  {
   "cell_type": "markdown",
   "id": "d1bd1ae9-433d-461e-9fdb-426090b232cf",
   "metadata": {},
   "source": [
    "Read some TBranches from it."
   ]
  },
  {
   "cell_type": "code",
   "execution_count": 3,
   "id": "24f814c1-2a0f-4851-a162-e8a9276bd813",
   "metadata": {},
   "outputs": [
    {
     "data": {
      "text/plain": [
       "<Array [{px: [-0.516, -0.246, ... 3.03]}] type='10000 * {\"px\": var * float64, \"p...'>"
      ]
     },
     "execution_count": 3,
     "metadata": {},
     "output_type": "execute_result"
    }
   ],
   "source": [
    "components = tree.arrays([\"px\", \"py\", \"pz\", \"tot_e\"])\n",
    "components"
   ]
  },
  {
   "cell_type": "markdown",
   "id": "2e5224b6-9ad8-4da4-be0e-253a2899e251",
   "metadata": {},
   "source": [
    "Reformat them into an array of lists of four-vectors."
   ]
  },
  {
   "cell_type": "code",
   "execution_count": 4,
   "id": "7a25eadc-c8ac-4ced-8e27-617f5942d43f",
   "metadata": {},
   "outputs": [],
   "source": [
    "import awkward as ak\n",
    "import vector\n",
    "vector.register_awkward()"
   ]
  },
  {
   "cell_type": "code",
   "execution_count": 5,
   "id": "c4f9296e-8875-45ad-b494-9b539651452b",
   "metadata": {},
   "outputs": [
    {
     "data": {
      "text/plain": [
       "<MomentumArray4D [[{px: -0.516, ... E: 3.03}]] type='10000 * var * Momentum4D[\"p...'>"
      ]
     },
     "execution_count": 5,
     "metadata": {},
     "output_type": "execute_result"
    }
   ],
   "source": [
    "events = ak.zip(\n",
    "    {\"px\": components.px, \"py\": components.py, \"pz\": components.pz, \"E\": components.tot_e},\n",
    "    with_name=\"Momentum4D\",\n",
    ")\n",
    "events"
   ]
  },
  {
   "cell_type": "markdown",
   "id": "aeef59fe-1e2d-4929-b455-b2416fe82499",
   "metadata": {},
   "source": [
    "See that each list has a different length."
   ]
  },
  {
   "cell_type": "code",
   "execution_count": 6,
   "id": "07513712-9444-42e9-873a-b04645d25fb4",
   "metadata": {},
   "outputs": [
    {
     "data": {
      "text/plain": [
       "<Array [51, 26, 27, 28, 30, ... 37, 42, 25, 11] type='10000 * int64'>"
      ]
     },
     "execution_count": 6,
     "metadata": {},
     "output_type": "execute_result"
    }
   ],
   "source": [
    "ak.num(events)"
   ]
  },
  {
   "cell_type": "markdown",
   "id": "e8547bd2-8e3f-4bb4-8219-7e661aeee34b",
   "metadata": {},
   "source": [
    "Run FastJet's anti-$k_T$ clustering algorithm on all events."
   ]
  },
  {
   "cell_type": "code",
   "execution_count": 7,
   "id": "1f8fc85d-982e-4469-bbb2-4d53517d408e",
   "metadata": {},
   "outputs": [],
   "source": [
    "import fastjet"
   ]
  },
  {
   "cell_type": "code",
   "execution_count": 8,
   "id": "33322cd9-ec0a-404e-9158-43886a48bcd9",
   "metadata": {},
   "outputs": [
    {
     "name": "stdout",
     "output_type": "stream",
     "text": [
      "#--------------------------------------------------------------------------\n",
      "#                         FastJet release 3.3.4\n",
      "#                 M. Cacciari, G.P. Salam and G. Soyez                  \n",
      "#     A software package for jet finding and analysis at colliders      \n",
      "#                           http://fastjet.fr                           \n",
      "#\t                                                                      \n",
      "# Please cite EPJC72(2012)1896 [arXiv:1111.6097] if you use this package\n",
      "# for scientific work and optionally PLB641(2006)57 [hep-ph/0512210].   \n",
      "#                                                                       \n",
      "# FastJet is provided without warranty under the GNU GPL v2 or higher.  \n",
      "# It uses T. Chan's closest pair algorithm, S. Fortune's Voronoi code\n",
      "# and 3rd party plugin jet algorithms. See COPYING file for details.\n",
      "#--------------------------------------------------------------------------\n"
     ]
    },
    {
     "data": {
      "text/plain": [
       "<fastjet._pyjet.AwkwardClusterSequence at 0x7f16e2702b80>"
      ]
     },
     "execution_count": 8,
     "metadata": {},
     "output_type": "execute_result"
    }
   ],
   "source": [
    "cluster_sequence = fastjet.ClusterSequence(\n",
    "    events,\n",
    "    fastjet.JetDefinition(fastjet.antikt_algorithm, 0.5),\n",
    ")\n",
    "cluster_sequence"
   ]
  },
  {
   "cell_type": "code",
   "execution_count": 9,
   "id": "db81d374-402e-4414-9300-74c7b08cf5de",
   "metadata": {},
   "outputs": [
    {
     "data": {
      "text/plain": [
       "<MomentumArray4D [[{px: 0.056, ... E: 17.3}]] type='10000 * var * Momentum4D[\"px...'>"
      ]
     },
     "execution_count": 9,
     "metadata": {},
     "output_type": "execute_result"
    }
   ],
   "source": [
    "clustered_events = cluster_sequence.inclusive_jets()\n",
    "clustered_events"
   ]
  },
  {
   "cell_type": "markdown",
   "id": "ea884fe3-c783-4366-bc20-98a9d492f78c",
   "metadata": {},
   "source": [
    "Histogram the number of particles in events and the number of jets in events."
   ]
  },
  {
   "cell_type": "code",
   "execution_count": 10,
   "id": "4d0530be-b6cf-4886-9512-44a30f3fb975",
   "metadata": {},
   "outputs": [],
   "source": [
    "import hist"
   ]
  },
  {
   "cell_type": "code",
   "execution_count": 11,
   "id": "2ea85e0d-bf37-4b59-8506-62b4d6a38abc",
   "metadata": {},
   "outputs": [
    {
     "data": {
      "text/html": [
       "<html>\n",
       "<div style=\"display:flex; align-items:center;\">\n",
       "<div style=\"width:290px;\">\n",
       "<svg xmlns=\"http://www.w3.org/2000/svg\" viewBox=\"-10 -105 270 120\">\n",
       "<line x1=\"-5\" y1=\"0\" x2=\"255\" y2=\"0\" style=\"fill:none;stroke-width:2;stroke:currentColor\"/>\n",
       "<text text-anchor=\"middle\" x=\"0\" y=\"15\" style=\"fill:currentColor;\">\n",
       "-0.5\n",
       "</text>\n",
       "<text text-anchor=\"middle\" x=\"250\" y=\"15\" style=\"fill:currentColor;\">\n",
       "100\n",
       "</text>\n",
       "<text text-anchor=\"middle\" x=\"125.0\" y=\"15\" style=\"fill:currentColor;\">\n",
       "Axis 0\n",
       "</text>\n",
       "<polyline points=\"  0,0   0,-12.5 2.47525,-12.5 2.47525,-0.348 4.9505,-0.348 4.9505,-1.05 7.42574,-1.05 7.42574,-6.97 9.90099,-6.97 9.90099,-9.76 12.3762,-9.76 12.3762,-11.5 14.8515,-11.5 14.8515,-10.5 17.3267,-10.5 17.3267,-16 19.802,-16 19.802,-15.3 22.2772,-15.3 22.2772,-26.5 24.7525,-26.5 24.7525,-31.4 27.2277,-31.4 27.2277,-35.9 29.703,-35.9 29.703,-33.1 32.1782,-33.1 32.1782,-42.2 34.6535,-42.2 34.6535,-43.6 37.1287,-43.6 37.1287,-46.7 39.604,-46.7 39.604,-53.3 42.0792,-53.3 42.0792,-65.2 44.5545,-65.2 44.5545,-60.3 47.0297,-60.3 47.0297,-63.1 49.505,-63.1 49.505,-75.3 51.9802,-75.3 51.9802,-70.7 54.4554,-70.7 54.4554,-77 56.9307,-77 56.9307,-80.1 59.4059,-80.1 59.4059,-83.3 61.8812,-83.3 61.8812,-92.7 64.3564,-92.7 64.3564,-100 66.8317,-100 66.8317,-88.2 69.3069,-88.2 69.3069,-99 71.7822,-99 71.7822,-94.8 74.2574,-94.8 74.2574,-91.6 76.7327,-91.6 76.7327,-81.2 79.2079,-81.2 79.2079,-90.9 81.6832,-90.9 81.6832,-82.9 84.1584,-82.9 84.1584,-85 86.6337,-85 86.6337,-88.5 89.1089,-88.5 89.1089,-85.4 91.5842,-85.4 91.5842,-81.5 94.0594,-81.5 94.0594,-78.4 96.5347,-78.4 96.5347,-72.5 99.0099,-72.5 99.0099,-73.2 101.485,-73.2 101.485,-67.9 103.96,-67.9 103.96,-61 106.436,-61 106.436,-61.3 108.911,-61.3 108.911,-60.6 111.386,-60.6 111.386,-68.6 113.861,-68.6 113.861,-48.8 116.337,-48.8 116.337,-56.1 118.812,-56.1 118.812,-49.8 121.287,-49.8 121.287,-39 123.762,-39 123.762,-42.2 126.238,-42.2 126.238,-42.5 128.713,-42.5 128.713,-39 131.188,-39 131.188,-33.1 133.663,-33.1 133.663,-33.8 136.139,-33.8 136.139,-39.7 138.614,-39.7 138.614,-23.7 141.089,-23.7 141.089,-28.6 143.564,-28.6 143.564,-24.4 146.04,-24.4 146.04,-18.1 148.515,-18.1 148.515,-22.6 150.99,-22.6 150.99,-21.6 153.465,-21.6 153.465,-20.9 155.941,-20.9 155.941,-18.8 158.416,-18.8 158.416,-20.2 160.891,-20.2 160.891,-19.5 163.366,-19.5 163.366,-15.7 165.842,-15.7 165.842,-11.5 168.317,-11.5 168.317,-10.8 170.792,-10.8 170.792,-10.8 173.267,-10.8 173.267,-10.1 175.743,-10.1 175.743,-8.01 178.218,-8.01 178.218,-6.62 180.693,-6.62 180.693,-6.27 183.168,-6.27 183.168,-7.67 185.644,-7.67 185.644,-7.32 188.119,-7.32 188.119,-5.23 190.594,-5.23 190.594,-5.57 193.069,-5.57 193.069,-4.53 195.545,-4.53 195.545,-6.27 198.02,-6.27 198.02,-6.97 200.495,-6.97 200.495,-2.79 202.97,-2.79 202.97,-2.09 205.446,-2.09 205.446,-4.53 207.921,-4.53 207.921,-3.14 210.396,-3.14 210.396,-2.79 212.871,-2.79 212.871,-2.44 215.347,-2.44 215.347,-3.48 217.822,-3.48 217.822,-2.44 220.297,-2.44 220.297,-1.05 222.772,-1.05 222.772,-1.39 225.248,-1.39 225.248,-2.09 227.723,-2.09 227.723,-1.05 230.198,-1.05 230.198,-1.39 232.673,-1.39 232.673,-0.697 235.149,-0.697 235.149,-2.79 237.624,-2.79 237.624,-0.348 240.099,-0.348 240.099,-0.697 242.574,-0.697 242.574,-0.348 245.05,-0.348 245.05,-0.697 247.525,-0.697 247.525,-0 250,-0 250,0\" style=\"fill:none; stroke:currentColor;\"/>\n",
       "</svg>\n",
       "</div>\n",
       "<div style=\"flex=grow:1;\">\n",
       "Regular(101, -0.5, 100.5, label='Axis 0')<br/>\n",
       "<hr style=\"margin-top:.2em; margin-bottom:.2em;\"/>\n",
       "Double() Σ=9984.0 <em>(10000.0 with flow)</em>\n",
       "\n",
       "</div>\n",
       "</div>\n",
       "</html>"
      ],
      "text/plain": [
       "Hist(Regular(101, -0.5, 100.5, label='Axis 0'), storage=Double()) # Sum: 9984.0 (10000.0 with flow)"
      ]
     },
     "execution_count": 11,
     "metadata": {},
     "output_type": "execute_result"
    }
   ],
   "source": [
    "hist.new.Reg(101, -0.5, 100.5).Double().fill(ak.num(events))"
   ]
  },
  {
   "cell_type": "code",
   "execution_count": 12,
   "id": "b31886cc-08a5-4e4f-89b4-c2ba30e8ae97",
   "metadata": {},
   "outputs": [
    {
     "data": {
      "text/html": [
       "<html>\n",
       "<div style=\"display:flex; align-items:center;\">\n",
       "<div style=\"width:290px;\">\n",
       "<svg xmlns=\"http://www.w3.org/2000/svg\" viewBox=\"-10 -105 270 120\">\n",
       "<line x1=\"-5\" y1=\"0\" x2=\"255\" y2=\"0\" style=\"fill:none;stroke-width:2;stroke:currentColor\"/>\n",
       "<text text-anchor=\"middle\" x=\"0\" y=\"15\" style=\"fill:currentColor;\">\n",
       "-0.5\n",
       "</text>\n",
       "<text text-anchor=\"middle\" x=\"250\" y=\"15\" style=\"fill:currentColor;\">\n",
       "100\n",
       "</text>\n",
       "<text text-anchor=\"middle\" x=\"125.0\" y=\"15\" style=\"fill:currentColor;\">\n",
       "Axis 0\n",
       "</text>\n",
       "<polyline points=\"  0,0   0,-7.59 2.47525,-7.59 2.47525,-0.211 4.9505,-0.211 4.9505,-0.633 7.42574,-0.633 7.42574,-5.7 9.90099,-5.7 9.90099,-7.17 12.3762,-7.17 12.3762,-8.65 14.8515,-8.65 14.8515,-14.8 17.3267,-14.8 17.3267,-16.5 19.802,-16.5 19.802,-22.8 22.2772,-22.8 22.2772,-35 24.7525,-35 24.7525,-38.4 27.2277,-38.4 27.2277,-49.4 29.703,-49.4 29.703,-58.6 32.1782,-58.6 32.1782,-61.4 34.6535,-61.4 34.6535,-66.9 37.1287,-66.9 37.1287,-73 39.604,-73 39.604,-89.5 42.0792,-89.5 42.0792,-86.3 44.5545,-86.3 44.5545,-92.8 47.0297,-92.8 47.0297,-94.9 49.505,-94.9 49.505,-100 51.9802,-100 51.9802,-95.6 54.4554,-95.6 54.4554,-98.1 56.9307,-98.1 56.9307,-92.4 59.4059,-92.4 59.4059,-97.9 61.8812,-97.9 61.8812,-93.5 64.3564,-93.5 64.3564,-81.2 66.8317,-81.2 66.8317,-82.1 69.3069,-82.1 69.3069,-72.8 71.7822,-72.8 71.7822,-70.3 74.2574,-70.3 74.2574,-54.2 76.7327,-54.2 76.7327,-53.2 79.2079,-53.2 79.2079,-49.4 81.6832,-49.4 81.6832,-42.4 84.1584,-42.4 84.1584,-38.6 86.6337,-38.6 86.6337,-30 89.1089,-30 89.1089,-28.1 91.5842,-28.1 91.5842,-24.3 94.0594,-24.3 94.0594,-16.2 96.5347,-16.2 96.5347,-13.9 99.0099,-13.9 99.0099,-13.3 101.485,-13.3 101.485,-8.86 103.96,-8.86 103.96,-6.75 106.436,-6.75 106.436,-4.43 108.911,-4.43 108.911,-4.43 111.386,-4.43 111.386,-2.95 113.861,-2.95 113.861,-1.48 116.337,-1.48 116.337,-0.633 118.812,-0.633 118.812,-1.05 121.287,-1.05 121.287,-1.05 123.762,-1.05 123.762,-0 126.238,-0 126.238,-0 128.713,-0 128.713,-0.422 131.188,-0.422 131.188,-0 133.663,-0 133.663,-0.211 136.139,-0.211 136.139,-0 138.614,-0 138.614,-0 141.089,-0 141.089,-0 143.564,-0 143.564,-0 146.04,-0 146.04,-0 148.515,-0 148.515,-0 150.99,-0 150.99,-0 153.465,-0 153.465,-0 155.941,-0 155.941,-0 158.416,-0 158.416,-0 160.891,-0 160.891,-0 163.366,-0 163.366,-0 165.842,-0 165.842,-0 168.317,-0 168.317,-0 170.792,-0 170.792,-0 173.267,-0 173.267,-0 175.743,-0 175.743,-0 178.218,-0 178.218,-0 180.693,-0 180.693,-0 183.168,-0 183.168,-0 185.644,-0 185.644,-0 188.119,-0 188.119,-0 190.594,-0 190.594,-0 193.069,-0 193.069,-0 195.545,-0 195.545,-0 198.02,-0 198.02,-0 200.495,-0 200.495,-0 202.97,-0 202.97,-0 205.446,-0 205.446,-0 207.921,-0 207.921,-0 210.396,-0 210.396,-0 212.871,-0 212.871,-0 215.347,-0 215.347,-0 217.822,-0 217.822,-0 220.297,-0 220.297,-0 222.772,-0 222.772,-0 225.248,-0 225.248,-0 227.723,-0 227.723,-0 230.198,-0 230.198,-0 232.673,-0 232.673,-0 235.149,-0 235.149,-0 237.624,-0 237.624,-0 240.099,-0 240.099,-0 242.574,-0 242.574,-0 245.05,-0 245.05,-0 247.525,-0 247.525,-0 250,-0 250,0\" style=\"fill:none; stroke:currentColor;\"/>\n",
       "</svg>\n",
       "</div>\n",
       "<div style=\"flex=grow:1;\">\n",
       "Regular(101, -0.5, 100.5, label='Axis 0')<br/>\n",
       "<hr style=\"margin-top:.2em; margin-bottom:.2em;\"/>\n",
       "Double() Σ=10000.0\n",
       "\n",
       "</div>\n",
       "</div>\n",
       "</html>"
      ],
      "text/plain": [
       "Hist(Regular(101, -0.5, 100.5, label='Axis 0'), storage=Double()) # Sum: 10000.0"
      ]
     },
     "execution_count": 12,
     "metadata": {},
     "output_type": "execute_result"
    }
   ],
   "source": [
    "hist.new.Reg(101, -0.5, 100.5).Double().fill(ak.num(clustered_events))"
   ]
  },
  {
   "cell_type": "markdown",
   "id": "3128fd28-51fd-4610-9e9b-2e28381abd27",
   "metadata": {},
   "source": [
    "See what happens when you change $\\Delta R$!\n",
    "\n",
    "<br><br><br><br><br>"
   ]
  },
  {
   "cell_type": "markdown",
   "id": "265eadd2-31db-454d-bfc8-eb21344fdc9b",
   "metadata": {},
   "source": [
    "## The Scikit-HEP way of doing things"
   ]
  },
  {
   "cell_type": "code",
   "execution_count": null,
   "id": "00690da9-833e-45ab-b96e-2c6836de219c",
   "metadata": {},
   "outputs": [],
   "source": []
  },
  {
   "cell_type": "code",
   "execution_count": null,
   "id": "3369fd7f-26db-44c4-b607-54cce48653fd",
   "metadata": {},
   "outputs": [],
   "source": []
  },
  {
   "cell_type": "code",
   "execution_count": null,
   "id": "c1e68a7d-8674-4d09-a065-27c8492cb700",
   "metadata": {},
   "outputs": [],
   "source": []
  },
  {
   "cell_type": "code",
   "execution_count": null,
   "id": "f096ccf3-83af-442b-9ccc-4e5888c7f6b8",
   "metadata": {},
   "outputs": [],
   "source": []
  },
  {
   "cell_type": "code",
   "execution_count": null,
   "id": "566e25b3-2bad-495c-aa88-bfb54324f085",
   "metadata": {},
   "outputs": [],
   "source": []
  },
  {
   "cell_type": "code",
   "execution_count": null,
   "id": "e49398ca-75a9-4dcf-9ff1-23cf4100d0cb",
   "metadata": {},
   "outputs": [],
   "source": []
  },
  {
   "cell_type": "code",
   "execution_count": null,
   "id": "99910e11-08b7-4ab5-8b86-15d513ef8d93",
   "metadata": {},
   "outputs": [],
   "source": []
  },
  {
   "cell_type": "code",
   "execution_count": null,
   "id": "224fc2fb-25dd-4592-88f0-d0b4ca5155af",
   "metadata": {},
   "outputs": [],
   "source": []
  },
  {
   "cell_type": "code",
   "execution_count": null,
   "id": "88ec71a3-8673-462d-be43-e441b72b8546",
   "metadata": {},
   "outputs": [],
   "source": []
  },
  {
   "cell_type": "code",
   "execution_count": null,
   "id": "77c979fe-14ce-48f0-9a04-107c5fe9580d",
   "metadata": {},
   "outputs": [],
   "source": []
  },
  {
   "cell_type": "code",
   "execution_count": null,
   "id": "d45090de-2310-4772-8fff-c5256ed165ef",
   "metadata": {},
   "outputs": [],
   "source": []
  },
  {
   "cell_type": "code",
   "execution_count": null,
   "id": "869b2588-95ac-4d02-980f-f764fc6e8d24",
   "metadata": {},
   "outputs": [],
   "source": []
  }
 ],
 "metadata": {
  "kernelspec": {
   "display_name": "Python 3 (ipykernel)",
   "language": "python",
   "name": "python3"
  },
  "language_info": {
   "codemirror_mode": {
    "name": "ipython",
    "version": 3
   },
   "file_extension": ".py",
   "mimetype": "text/x-python",
   "name": "python",
   "nbconvert_exporter": "python",
   "pygments_lexer": "ipython3",
   "version": "3.9.12"
  }
 },
 "nbformat": 4,
 "nbformat_minor": 5
}
