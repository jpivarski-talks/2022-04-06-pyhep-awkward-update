{
 "cells": [
  {
   "cell_type": "markdown",
   "id": "4e6dc812-72b6-46c7-ac97-c92133a8e3ec",
   "metadata": {
    "tags": []
   },
   "source": [
    "# Awkward Array updates"
   ]
  },
  {
   "cell_type": "markdown",
   "id": "6e5dfe59-395d-4a37-bc3c-be1f4798f432",
   "metadata": {},
   "source": [
    "**Note:** although I'm presenting in Jupyter, this is a talk, rather than a tutorial. You don't have to follow along.\n",
    "\n",
    "<br><br><br><br><br>"
   ]
  },
  {
   "cell_type": "markdown",
   "id": "a458baa4-5649-4634-b195-5a24e6f4f557",
   "metadata": {},
   "source": [
    "## Awkward 2.0: time for a new version!"
   ]
  },
  {
   "cell_type": "markdown",
   "id": "821ff2c2-3b69-49c9-9a67-eb4a9e631597",
   "metadata": {},
   "source": [
    "However,\n",
    "\n",
    "   * we are _not_ repeating the name-switch fiasco\n",
    "   * we are _not_ changing the data analyst interface (much)\n",
    "   * the biggest visible difference is how lazy arrays are managed"
   ]
  },
  {
   "cell_type": "markdown",
   "id": "5d1957f4-90dd-44b4-90fa-3e194811a9c9",
   "metadata": {},
   "source": [
    "<img src=\"img/awkward-timeline.png\" width=\"100%\">\n",
    "\n",
    "<br><br><br><br><br>"
   ]
  },
  {
   "cell_type": "markdown",
   "id": "77f81e3f-33c3-4468-8e9a-1c09f609b33b",
   "metadata": {},
   "source": [
    "# How close is it to being finished?"
   ]
  },
  {
   "cell_type": "markdown",
   "id": "4a3a8a06-5df4-4ab4-813d-ff93f9cdd049",
   "metadata": {},
   "source": [
    "By counting expected lines of code, 95% done.\n",
    "\n",
    "It's usable now with \"rough edges.\" Try it out:\n",
    "\n",
    "```python\n",
    "import awkward._v2 as ak\n",
    "```\n",
    "\n",
    "<br><br><br><br><br>"
   ]
  },
  {
   "cell_type": "markdown",
   "id": "3a618e43-fc2b-4971-ba1c-1bc8110db9c5",
   "metadata": {},
   "source": [
    "## How did the Awkward 0 → Awkward 1 transition go?"
   ]
  },
  {
   "cell_type": "markdown",
   "id": "e097cb63-57b3-43fc-b46f-c2dbcc772cf6",
   "metadata": {},
   "source": [
    "It's almost done: more pip-installs of 1.x than 0.x, in batch jobs and laptops."
   ]
  },
  {
   "cell_type": "markdown",
   "id": "f32d8901-35d6-417c-87a5-3738a342d8d1",
   "metadata": {},
   "source": [
    "<table width=\"100%\"><tr style=\"background: white\">\n",
    "    <td align=\"left\" width=\"50%\"><img src=\"img/pip-allos-awkward-lin.png\" width=\"98%\"></td>\n",
    "    <td align=\"right\" width=\"50%\"><img src=\"img/pip-macwin-awkward-lin.png\" width=\"98%\"></td>\n",
    "</tr></table>\n",
    "\n",
    "<br><br><br><br><br>"
   ]
  },
  {
   "cell_type": "markdown",
   "id": "cc2d2c49-c211-4ed9-8f11-b93a73efe5c2",
   "metadata": {},
   "source": [
    "## Why change it at all?"
   ]
  },
  {
   "cell_type": "markdown",
   "id": "70d8e981-d7f8-42cb-a3b7-2f7b62d9975c",
   "metadata": {},
   "source": [
    "Awkward 1.x moved loops over arrays from NumPy to specialized compiled \"kernels.\" That was good.\n",
    "\n",
    "It also moved the implementation of Awkward's tree structures into C++. That was bad.\n",
    "\n",
    "[This talk has all the details](https://indico.cern.ch/event/855454/contributions/4605044/), but we needed to reimplement Awkward tree manipulation back into Python to make it more transparent to other Python libraries."
   ]
  },
  {
   "cell_type": "markdown",
   "id": "265a3861-b407-4b1f-b0db-93e7cc456b22",
   "metadata": {},
   "source": [
    "<table width=\"100%\"><tr style=\"background: white\">\n",
    "    <td align=\"center\" width=\"50%\" style=\"font-size: 14pt; font-weight: bold\">Architecture of Awkward 1.x</td>\n",
    "    <td align=\"center\" width=\"50%\" style=\"font-size: 14pt; font-weight: bold\">Architecture of Awkward 2.x</td>\n",
    "</tr><tr style=\"background: white\">\n",
    "    <td align=\"left\" width=\"50%\"><img src=\"img/awkward-1-layers-problem.png\" width=\"100%\"></td>\n",
    "    <td align=\"right\" width=\"50%\"><img src=\"img/awkward-2-layers-solution.png\" width=\"100%\"></td>\n",
    "</tr></table>\n",
    "\n",
    "<br><br><br><br><br>"
   ]
  },
  {
   "cell_type": "markdown",
   "id": "a77a3742-59ec-43a3-a10d-6e041fec882f",
   "metadata": {},
   "source": [
    "## What about performance?"
   ]
  },
  {
   "cell_type": "markdown",
   "id": "c4b5ff2c-56a7-43d1-b061-dda351b361bb",
   "metadata": {},
   "source": [
    "Only the \"kernels\" level of Awkward's architecture is relevant for the performance of _O(n)_ algorithms, and that's still compiled.\n",
    "\n",
    "Moving the tree structures into Python can actually improve performance for a hundred little reasons.\n",
    "\n",
    "Consider this array:\n",
    "\n",
    "```python\n",
    "array = ak.Array([\n",
    "    [{\"x\": 1.1, \"y\": [1]}, {\"x\": 2.2, \"y\": [1, 2]}, {\"x\": 3.3, \"y\": [1, 2, 3]}],\n",
    "    [],\n",
    "    [{\"x\": 4.4, \"y\": [1, 2, 3, 4]}, {\"x\": 5.5, \"y\": [1, 2, 3, 4, 5]}]\n",
    "] * 1000000)\n",
    "```\n",
    "\n",
    "and this calculation (from the front page of Awkward's GitHub page):\n",
    "\n",
    "```python\n",
    "output = np.square(array_v2[\"y\", ..., 1:])\n",
    "```\n",
    "\n",
    "<br>"
   ]
  },
  {
   "cell_type": "code",
   "execution_count": 1,
   "id": "fd6270dd-a6ee-4c21-84cb-d08b06eb2a90",
   "metadata": {},
   "outputs": [],
   "source": [
    "import numpy as np"
   ]
  },
  {
   "cell_type": "code",
   "execution_count": 2,
   "id": "f7752bd4-f483-4d32-b853-ae83466dc392",
   "metadata": {},
   "outputs": [],
   "source": [
    "import awkward as ak"
   ]
  },
  {
   "cell_type": "markdown",
   "id": "1c172c8a-0d25-4287-bb40-6f9445e6e2c2",
   "metadata": {},
   "source": [
    "### With version 2.x:"
   ]
  },
  {
   "cell_type": "code",
   "execution_count": 3,
   "id": "62ec2c5e-2429-482e-ad24-adf8f8f5d758",
   "metadata": {},
   "outputs": [],
   "source": [
    "array_v2 = ak._v2.from_parquet(\"data/simple-30-million.parquet\")"
   ]
  },
  {
   "cell_type": "code",
   "execution_count": 4,
   "id": "7a4cd72b-df92-4f57-918d-8eaec5dac3a8",
   "metadata": {},
   "outputs": [
    {
     "data": {
      "text/plain": [
       "<Array [[{x: 1.1, y: [1]}, ..., {x: 3.3, ...}], ...] type='30000000 * var *...'>"
      ]
     },
     "execution_count": 4,
     "metadata": {},
     "output_type": "execute_result"
    }
   ],
   "source": [
    "array_v2"
   ]
  },
  {
   "cell_type": "code",
   "execution_count": 5,
   "id": "b16a7f5f-2d77-4516-b016-1390a35a9468",
   "metadata": {},
   "outputs": [
    {
     "name": "stdout",
     "output_type": "stream",
     "text": [
      "1.41 s ± 24 ms per loop (mean ± std. dev. of 3 runs, 1 loop each)\n"
     ]
    }
   ],
   "source": [
    "%%timeit -n 1 -r 3\n",
    "\n",
    "output = np.square(array_v2[\"y\", ..., 1:])"
   ]
  },
  {
   "cell_type": "code",
   "execution_count": 6,
   "id": "9af1ac6e-8070-4c8f-a061-3721d3fce407",
   "metadata": {},
   "outputs": [],
   "source": [
    "del array_v2"
   ]
  },
  {
   "cell_type": "markdown",
   "id": "3e91cb70-f934-46e2-b036-1fc43d45f1c2",
   "metadata": {},
   "source": [
    "<br>"
   ]
  },
  {
   "cell_type": "markdown",
   "id": "2f1e0cc2-746c-4245-942e-5af64ad6a974",
   "metadata": {},
   "source": [
    "### With version 1.x:"
   ]
  },
  {
   "cell_type": "code",
   "execution_count": 7,
   "id": "1b9da630-9ee0-4ffa-8408-d273dd121411",
   "metadata": {},
   "outputs": [],
   "source": [
    "array_v1 = ak.from_parquet(\"data/simple-30-million.parquet\")"
   ]
  },
  {
   "cell_type": "code",
   "execution_count": 8,
   "id": "6b3a0e36-658f-46b3-820f-321a55b06953",
   "metadata": {},
   "outputs": [
    {
     "name": "stdout",
     "output_type": "stream",
     "text": [
      "2.37 s ± 32.7 ms per loop (mean ± std. dev. of 3 runs, 1 loop each)\n"
     ]
    }
   ],
   "source": [
    "%%timeit -n 1 -r 3\n",
    "\n",
    "output = np.square(array_v1[\"y\", ..., 1:])"
   ]
  },
  {
   "cell_type": "markdown",
   "id": "0c1f7e12-99cc-499e-8cb3-f63169fc8cf6",
   "metadata": {},
   "source": [
    "<br>"
   ]
  },
  {
   "cell_type": "markdown",
   "id": "26375527-b810-435f-9e84-20f1247c332f",
   "metadata": {},
   "source": [
    "### With version 0.x:"
   ]
  },
  {
   "cell_type": "code",
   "execution_count": 9,
   "id": "81954fb7-e79e-402b-8742-704fe876471a",
   "metadata": {},
   "outputs": [
    {
     "name": "stderr",
     "output_type": "stream",
     "text": [
      "/home/jpivarski/irishep/OLD/awkward-0.x/awkward0/__init__.py:8: DeprecationWarning: distutils Version classes are deprecated. Use packaging.version instead.\n",
      "  if distutils.version.LooseVersion(numpy.__version__) < distutils.version.LooseVersion(\"1.13.1\"):\n"
     ]
    }
   ],
   "source": [
    "array_v0 = ak.to_awkward0(array_v1)"
   ]
  },
  {
   "cell_type": "code",
   "execution_count": 10,
   "id": "9e0cc5bc-cc61-4550-b21f-6f387d937030",
   "metadata": {},
   "outputs": [
    {
     "name": "stderr",
     "output_type": "stream",
     "text": [
      "/home/jpivarski/irishep/OLD/awkward-0.x/awkward0/array/base.py:622: DeprecationWarning: `np.str` is a deprecated alias for the builtin `str`. To silence this warning, use `str` by itself. Doing this will not modify any behavior and is safe. If you specifically wanted the numpy scalar type, use `np.str_` here.\n",
      "Deprecated in NumPy 1.20; for more details and guidance: https://numpy.org/devdocs/release/1.20.0-notes.html#deprecations\n",
      "  elif isinstance(where, (cls.numpy.ndarray, AwkwardArray)) and issubclass(where.dtype.type, (numpy.str, numpy.str_)):\n",
      "/home/jpivarski/irishep/OLD/awkward-0.x/awkward0/array/base.py:624: DeprecationWarning: `np.object` is a deprecated alias for the builtin `object`. To silence this warning, use `object` by itself. Doing this will not modify any behavior and is safe. \n",
      "Deprecated in NumPy 1.20; for more details and guidance: https://numpy.org/devdocs/release/1.20.0-notes.html#deprecations\n",
      "  elif isinstance(where, (cls.numpy.ndarray, AwkwardArray)) and issubclass(where.dtype.type, (numpy.object, numpy.object_)) and not issubclass(where.dtype.type, (bool, numpy.bool_)):\n"
     ]
    },
    {
     "name": "stdout",
     "output_type": "stream",
     "text": [
      "6.03 s ± 853 ms per loop (mean ± std. dev. of 3 runs, 1 loop each)\n"
     ]
    }
   ],
   "source": [
    "%%timeit -n 1 -r 3\n",
    "\n",
    "output = np.square(array_v0[\"y\"][:, 1:])"
   ]
  },
  {
   "cell_type": "code",
   "execution_count": 11,
   "id": "9e752c78-dd21-4fb7-8017-2ad0522d469a",
   "metadata": {},
   "outputs": [],
   "source": [
    "del array_v1, array_v0"
   ]
  },
  {
   "cell_type": "markdown",
   "id": "2fe839d0-18ba-4f6a-9b07-4e4b13c1066f",
   "metadata": {},
   "source": [
    "<br><br><br>\n",
    "\n",
    "| | time (sec) |\n",
    "|:-|:-:|\n",
    "| Awkward v2 | 1.5 |\n",
    "| Awkward 1.8.0 | 2.4 |\n",
    "| Awkward 0.15.5 | 6.0 |\n",
    "| equivalent Python | 140.0 |\n",
    "\n",
    "<br><br><br>"
   ]
  },
  {
   "cell_type": "markdown",
   "id": "a59163c8-94fd-4736-8369-71a87f2360d1",
   "metadata": {},
   "source": [
    "## What about interoperability with C++?"
   ]
  },
  {
   "cell_type": "markdown",
   "id": "512e21b2-773a-4a5f-8cc9-60c5f03f6447",
   "metadata": {},
   "source": [
    "Originally, I thought we would link C++ libraries directly to libawkward.so, after some experience, this doesn't seem credible.\n",
    "\n",
    "Much better ideas:\n",
    "\n",
    "   * pass array buffers between Python and C or C++, as fastjet does (previous talk)\n",
    "   * JIT-compile the connection between Awkward Array and C++\n",
    "\n",
    "<br><br><br><br><br>"
   ]
  },
  {
   "cell_type": "code",
   "execution_count": 3,
   "id": "13c2e8a7-24f5-45b4-b809-a165e3f4c78f",
   "metadata": {},
   "outputs": [
    {
     "name": "stdout",
     "output_type": "stream",
     "text": [
      "Welcome to JupyROOT 6.24/04\n"
     ]
    }
   ],
   "source": [
    "import ROOT"
   ]
  },
  {
   "cell_type": "code",
   "execution_count": 4,
   "id": "f6d149ee-4503-4fc5-af4b-68e76adf20b6",
   "metadata": {},
   "outputs": [
    {
     "data": {
      "text/plain": [
       "<Array [[{...}, ..., {...}], ...] type='3 * var * {x: float64, y: var * int64}'>"
      ]
     },
     "execution_count": 4,
     "metadata": {},
     "output_type": "execute_result"
    }
   ],
   "source": [
    "array = ak._v2.Array([\n",
    "    [{\"x\": 1.1, \"y\": [1]}, {\"x\": 2.2, \"y\": [1, 2]}, {\"x\": 3.3, \"y\": [1, 2, 3]}],\n",
    "    [],\n",
    "    [{\"x\": 4.4, \"y\": [1, 2, 3, 4]}, {\"x\": 5.5, \"y\": [1, 2, 3, 4, 5]}]\n",
    "])\n",
    "array"
   ]
  },
  {
   "cell_type": "markdown",
   "id": "1114cf1a-11ec-43b4-9e81-65e982777030",
   "metadata": {},
   "source": [
    "Low-level stuff that would be hidden in real applications:"
   ]
  },
  {
   "cell_type": "code",
   "execution_count": 6,
   "id": "0c0ea920-1005-455a-8b0a-b5b64582810a",
   "metadata": {},
   "outputs": [],
   "source": [
    "import awkward._v2._connect.cling\n",
    "\n",
    "generator = ak._v2._connect.cling.togenerator(array.layout.form)\n",
    "\n",
    "lookup = ak._v2._lookup.Lookup(array.layout)\n",
    "\n",
    "generator.generate(ROOT.gInterpreter.Declare)"
   ]
  },
  {
   "cell_type": "markdown",
   "id": "ec29f5b8-8c29-4650-9a1e-a0d5bf5ce3c3",
   "metadata": {},
   "source": [
    "Here's a C++ function that iterates over the Awkward Array:"
   ]
  },
  {
   "cell_type": "code",
   "execution_count": 6,
   "id": "11534472-82e5-4e1f-879c-949f0e77bb88",
   "metadata": {},
   "outputs": [
    {
     "data": {
      "text/plain": [
       "True"
      ]
     },
     "execution_count": 6,
     "metadata": {},
     "output_type": "execute_result"
    }
   ],
   "source": [
    "ROOT.gInterpreter.Declare(f\"\"\"\n",
    "void run_1(ssize_t length, ssize_t* ptrs) {{\n",
    "    auto awkward_array = {generator.dataset()};\n",
    "\n",
    "    std::cout << \"[\" << std::endl;\n",
    "    for (auto list : awkward_array) {{\n",
    "        std::cout << \"    [\" << std::endl;\n",
    "        if (list.size() == 0) {{\n",
    "            std::cout << \"        (empty!)\" << std::endl;\n",
    "        }}\n",
    "        for (auto record : list) {{\n",
    "            std::cout << \"        {{\" << std::endl;\n",
    "            std::cout << \"            x: \" << record.x() << std::endl;\n",
    "            std::cout << \"            y: \";\n",
    "            for (auto item : record.y()) {{\n",
    "                std::cout << item << \" \";\n",
    "            }}\n",
    "            std::cout << \"\" << std::endl;\n",
    "            std::cout << \"        }}\" << std::endl;\n",
    "        }}\n",
    "        std::cout << \"    ]\" << std::endl;\n",
    "    }}\n",
    "    std::cout << \"]\" << std::endl;\n",
    "}}\n",
    "\"\"\")"
   ]
  },
  {
   "cell_type": "code",
   "execution_count": 7,
   "id": "2aa92733-e663-4899-aa97-03376ae70b92",
   "metadata": {},
   "outputs": [
    {
     "name": "stdout",
     "output_type": "stream",
     "text": [
      "[\n",
      "    [\n",
      "        {\n",
      "            x: 1.1\n",
      "            y: 1 \n",
      "        }\n",
      "        {\n",
      "            x: 2.2\n",
      "            y: 1 2 \n",
      "        }\n",
      "        {\n",
      "            x: 3.3\n",
      "            y: 1 2 3 \n",
      "        }\n",
      "    ]\n",
      "    [\n",
      "        (empty!)\n",
      "    ]\n",
      "    [\n",
      "        {\n",
      "            x: 4.4\n",
      "            y: 1 2 3 4 \n",
      "        }\n",
      "        {\n",
      "            x: 5.5\n",
      "            y: 1 2 3 4 5 \n",
      "        }\n",
      "    ]\n",
      "]\n"
     ]
    }
   ],
   "source": [
    "ROOT.run_1(len(array), lookup.arrayptrs)"
   ]
  },
  {
   "cell_type": "markdown",
   "id": "7c1e0b05-2378-4537-ab89-6216f8a60ae1",
   "metadata": {},
   "source": [
    "<br><br><br>\n",
    "\n",
    "This feature is being developed for an Awkward Array ↔ RDataFrame bridge.\n",
    "\n",
    "<br><br><br><br><br>"
   ]
  },
  {
   "cell_type": "markdown",
   "id": "beac8199-8663-41cb-be41-d81dbc5a2286",
   "metadata": {},
   "source": [
    "## Does it scale? Sort of."
   ]
  },
  {
   "cell_type": "markdown",
   "id": "497a673c-b6c7-476e-add5-5c6e40d62c01",
   "metadata": {},
   "source": [
    "The Awkward C++ iterators use exactly the same strategy (and some of the same code) as Awkward Numba iterators."
   ]
  },
  {
   "cell_type": "code",
   "execution_count": null,
   "id": "147b5da2-e61c-4a2b-b65f-193c1b55cfa7",
   "metadata": {},
   "outputs": [],
   "source": [
    "del array, lookup"
   ]
  },
  {
   "cell_type": "code",
   "execution_count": 3,
   "id": "09895396-1e9c-453a-9986-52de3c561cf7",
   "metadata": {},
   "outputs": [],
   "source": [
    "array = ak._v2.from_parquet(\"data/simple-30-million.parquet\")"
   ]
  },
  {
   "cell_type": "code",
   "execution_count": 8,
   "id": "9c8dd858-229f-4bf2-81fc-effcfac16d05",
   "metadata": {},
   "outputs": [],
   "source": [
    "generator = ak._v2._connect.cling.togenerator(array.layout.form)\n",
    "lookup = ak._v2._lookup.Lookup(array.layout)\n",
    "generator.generate(ROOT.gInterpreter.Declare)"
   ]
  },
  {
   "cell_type": "code",
   "execution_count": 9,
   "id": "2f3a3859-b243-43eb-b8ea-57d481cc1c00",
   "metadata": {},
   "outputs": [
    {
     "data": {
      "text/plain": [
       "True"
      ]
     },
     "execution_count": 9,
     "metadata": {},
     "output_type": "execute_result"
    }
   ],
   "source": [
    "ROOT.gInterpreter.ProcessLine(\".O3\")  # this definitely changes the optimization level\n",
    "\n",
    "ROOT.gInterpreter.Declare(f\"\"\"\n",
    "double fast_1(ssize_t length, ssize_t* ptrs) {{\n",
    "    auto awkward_array = {generator.dataset()};\n",
    "    double out = 0.0;\n",
    "\n",
    "    for (auto list : awkward_array) {{\n",
    "        for (auto record : list) {{\n",
    "            for (auto item : record.y()) {{\n",
    "                out += item;\n",
    "            }}\n",
    "        }}\n",
    "    }}\n",
    "    \n",
    "    return out;\n",
    "}}\n",
    "\"\"\")"
   ]
  },
  {
   "cell_type": "code",
   "execution_count": 10,
   "id": "54559985-fe6b-4524-8739-ea29783379d6",
   "metadata": {},
   "outputs": [
    {
     "name": "stdout",
     "output_type": "stream",
     "text": [
      "3.14 s ± 21 ms per loop (mean ± std. dev. of 3 runs, 1 loop each)\n"
     ]
    }
   ],
   "source": [
    "%%timeit -n 1 -r 3\n",
    "\n",
    "ROOT.fast_1(len(array), lookup.arrayptrs)"
   ]
  },
  {
   "cell_type": "code",
   "execution_count": 11,
   "id": "0285016b-36c8-4465-89ed-79fb54495abb",
   "metadata": {},
   "outputs": [],
   "source": [
    "import numba as nb"
   ]
  },
  {
   "cell_type": "code",
   "execution_count": 12,
   "id": "85a12828-269e-4b38-bd79-c22dbc6173af",
   "metadata": {},
   "outputs": [],
   "source": [
    "ak._v2.numba.register()"
   ]
  },
  {
   "cell_type": "code",
   "execution_count": 13,
   "id": "b4317a2d-b0cd-43fd-b568-1656dbdc9168",
   "metadata": {},
   "outputs": [],
   "source": [
    "@nb.njit\n",
    "def fast(array):\n",
    "    out = 0.0\n",
    "    for nested_list in array:\n",
    "        for record in nested_list:\n",
    "            for item in record.y:\n",
    "                out += item\n",
    "    return out"
   ]
  },
  {
   "cell_type": "code",
   "execution_count": 14,
   "id": "3e1ae546-4ba8-45e9-8d33-f6ed15f7134c",
   "metadata": {},
   "outputs": [
    {
     "name": "stdout",
     "output_type": "stream",
     "text": [
      "339 ms ± 145 ms per loop (mean ± std. dev. of 3 runs, 1 loop each)\n"
     ]
    }
   ],
   "source": [
    "%%timeit -n 1 -r 3\n",
    "\n",
    "fast(array)"
   ]
  },
  {
   "cell_type": "markdown",
   "id": "866b62b5-5c80-448b-b37a-36e3fa88cce0",
   "metadata": {},
   "source": [
    "<br><br><br>\n",
    "\n",
    "But there's still a factor of ~10 in Numba's favor.\n",
    "\n",
    "Bracketing the problem: a standalone Cling (from the [compiler-research.org](https://compiler-research.org/) group) exactly reproduces Numba's rate, so it's something that we don't understand in ROOT.\n",
    "\n",
    "<br><br><br><br><br>"
   ]
  },
  {
   "cell_type": "code",
   "execution_count": 4,
   "id": "8444b99e-7fef-4e39-9268-5f47b4be9136",
   "metadata": {},
   "outputs": [],
   "source": [
    "array_gpu = ak._v2.to_backend(array, \"cuda\")"
   ]
  },
  {
   "cell_type": "code",
   "execution_count": 5,
   "id": "9a9fa412-8a6c-4dd6-a471-5296aa1be368",
   "metadata": {},
   "outputs": [],
   "source": [
    "output_gpu = np.sqrt(ak._v2.num(array_gpu[\"y\"], axis=2))"
   ]
  },
  {
   "cell_type": "code",
   "execution_count": 6,
   "id": "1fbe418d-88ce-49d1-941c-664a577ef67a",
   "metadata": {},
   "outputs": [
    {
     "data": {
      "text/plain": [
       "<Array [[1, 1.41, 1.73], [], ..., [2, 2.24]] type='30000000 * var * float64'>"
      ]
     },
     "execution_count": 6,
     "metadata": {},
     "output_type": "execute_result"
    }
   ],
   "source": [
    "ak._v2.to_backend(output_gpu, \"cpu\")"
   ]
  },
  {
   "cell_type": "code",
   "execution_count": 7,
   "id": "5c043c2d-f819-4d09-93b0-99181f370f3b",
   "metadata": {},
   "outputs": [],
   "source": [
    "del array_gpu, output_gpu"
   ]
  },
  {
   "cell_type": "markdown",
   "id": "f75529de-703d-458a-865d-94fcf5d4d3bc",
   "metadata": {},
   "source": [
    "Here's what the above looks like in Nvidia's profiler (not live):"
   ]
  },
  {
   "attachments": {
    "417c9276-2724-4814-b0b4-a6de7925cd80.png": {
     "image/png": "[encoded data removed]"
    }
   },
   "cell_type": "markdown",
   "id": "6ce49711-9b57-4390-9ce2-3b36764204c5",
   "metadata": {},
   "source": [
    "![image.png](attachment:417c9276-2724-4814-b0b4-a6de7925cd80.png)"
   ]
  },
  {
   "cell_type": "markdown",
   "id": "809587be-3011-4bb4-a3a6-ce8775c59519",
   "metadata": {},
   "source": [
    "Zooming in to the kernels calls between the host-to-device copy (HtoD) and device-to-host copy (DtoH):"
   ]
  },
  {
   "attachments": {
    "9608ed8a-7d2d-46bb-a6b7-0551cd45a433.png": {
     "image/png": "[encoded data removed]"
    }
   },
   "cell_type": "markdown",
   "id": "8fd74432-0678-42b0-9ecd-c67e69bad405",
   "metadata": {},
   "source": [
    "![image.png](attachment:9608ed8a-7d2d-46bb-a6b7-0551cd45a433.png)"
   ]
  },
  {
   "cell_type": "markdown",
   "id": "ba36f41c-6eb3-4736-a5af-ad3927969d30",
   "metadata": {},
   "source": [
    "The actual GPU computation runs in 108 ‒ 91 ms = 17 ms.\n",
    "\n",
    "On the CPU:"
   ]
  },
  {
   "cell_type": "code",
   "execution_count": 8,
   "id": "0ab02f18-090b-418d-8ee6-bce17dce6a41",
   "metadata": {},
   "outputs": [
    {
     "name": "stdout",
     "output_type": "stream",
     "text": [
      "201 ms ± 6.53 ms per loop (mean ± std. dev. of 3 runs, 1 loop each)\n"
     ]
    }
   ],
   "source": [
    "%%timeit -n 1 -r 3\n",
    "\n",
    "output_cpu = np.sqrt(ak._v2.num(array[\"y\"], axis=2))"
   ]
  }
 ],
 "metadata": {
  "kernelspec": {
   "display_name": "Python 3 (ipykernel)",
   "language": "python",
   "name": "python3"
  },
  "language_info": {
   "codemirror_mode": {
    "name": "ipython",
    "version": 3
   },
   "file_extension": ".py",
   "mimetype": "text/x-python",
   "name": "python",
   "nbconvert_exporter": "python",
   "pygments_lexer": "ipython3",
   "version": "3.9.12"
  }
 },
 "nbformat": 4,
 "nbformat_minor": 5
}
