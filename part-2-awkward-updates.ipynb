{
 "cells": [
  {
   "cell_type": "markdown",
   "id": "4e6dc812-72b6-46c7-ac97-c92133a8e3ec",
   "metadata": {
    "tags": []
   },
   "source": [
    "# Awkward Array updates"
   ]
  },
  {
   "cell_type": "markdown",
   "id": "6e5dfe59-395d-4a37-bc3c-be1f4798f432",
   "metadata": {},
   "source": [
    "**Note:** although I'm presenting in Jupyter, this is a talk, rather than a tutorial. You don't have to follow along.\n",
    "\n",
    "<br><br><br><br><br>"
   ]
  },
  {
   "cell_type": "code",
   "execution_count": null,
   "id": "f7752bd4-f483-4d32-b853-ae83466dc392",
   "metadata": {},
   "outputs": [],
   "source": []
  }
 ],
 "metadata": {
  "kernelspec": {
   "display_name": "Python 3 (ipykernel)",
   "language": "python",
   "name": "python3"
  },
  "language_info": {
   "codemirror_mode": {
    "name": "ipython",
    "version": 3
   },
   "file_extension": ".py",
   "mimetype": "text/x-python",
   "name": "python",
   "nbconvert_exporter": "python",
   "pygments_lexer": "ipython3",
   "version": "3.9.12"
  }
 },
 "nbformat": 4,
 "nbformat_minor": 5
}
